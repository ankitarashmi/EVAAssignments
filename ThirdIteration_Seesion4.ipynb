{
  "nbformat": 4,
  "nbformat_minor": 0,
  "metadata": {
    "colab": {
      "name": "ThirdIteration_Seesion4",
      "version": "0.3.2",
      "provenance": [],
      "collapsed_sections": [],
      "include_colab_link": true
    },
    "kernelspec": {
      "name": "python3",
      "display_name": "Python 3"
    },
    "accelerator": "GPU"
  },
  "cells": [
    {
      "cell_type": "markdown",
      "metadata": {
        "id": "view-in-github",
        "colab_type": "text"
      },
      "source": [
        "<a href=\"https://colab.research.google.com/github/ankitarashmi/EVAAssignments/blob/master/ThirdIteration_Seesion4.ipynb\" target=\"_parent\"><img src=\"https://colab.research.google.com/assets/colab-badge.svg\" alt=\"Open In Colab\"/></a>"
      ]
    },
    {
      "cell_type": "markdown",
      "metadata": {
        "id": "aNyZv-Ec52ot",
        "colab_type": "text"
      },
      "source": [
        "# **Import Libraries and modules**"
      ]
    },
    {
      "cell_type": "code",
      "metadata": {
        "id": "3m3w1Cw49Zkt",
        "colab_type": "code",
        "outputId": "32758556-23a3-49e7-ff88-1dc85bec2d55",
        "colab": {
          "base_uri": "https://localhost:8080/",
          "height": 34
        }
      },
      "source": [
        "# https://keras.io/\n",
        "!pip install -q keras\n",
        "import keras"
      ],
      "execution_count": 0,
      "outputs": [
        {
          "output_type": "stream",
          "text": [
            "Using TensorFlow backend.\n"
          ],
          "name": "stderr"
        }
      ]
    },
    {
      "cell_type": "code",
      "metadata": {
        "id": "Eso6UHE080D4",
        "colab_type": "code",
        "colab": {}
      },
      "source": [
        "import numpy as np\n",
        "\n",
        "from keras.models import Sequential\n",
        "from keras.layers import Dense, Dropout, Activation, Flatten, Add, BatchNormalization\n",
        "from keras.layers import Convolution2D, MaxPooling2D\n",
        "from keras.utils import np_utils\n",
        "\n",
        "from keras.datasets import mnist"
      ],
      "execution_count": 0,
      "outputs": []
    },
    {
      "cell_type": "code",
      "metadata": {
        "id": "1MqX_JfyKJ49",
        "colab_type": "code",
        "colab": {}
      },
      "source": [
        ""
      ],
      "execution_count": 0,
      "outputs": []
    },
    {
      "cell_type": "markdown",
      "metadata": {
        "id": "zByEi95J86RD",
        "colab_type": "text"
      },
      "source": [
        "### Load pre-shuffled MNIST data into train and test sets"
      ]
    },
    {
      "cell_type": "code",
      "metadata": {
        "id": "7eRM0QWN83PV",
        "colab_type": "code",
        "colab": {}
      },
      "source": [
        "(X_train, y_train), (X_test, y_test) = mnist.load_data()"
      ],
      "execution_count": 0,
      "outputs": []
    },
    {
      "cell_type": "code",
      "metadata": {
        "id": "4a4Be72j8-ZC",
        "colab_type": "code",
        "outputId": "49d5049d-33d9-4c08-f8c8-c5ade78ede77",
        "colab": {
          "base_uri": "https://localhost:8080/",
          "height": 302
        }
      },
      "source": [
        "print (X_train.shape)\n",
        "from matplotlib import pyplot as plt\n",
        "%matplotlib inline\n",
        "plt.imshow(X_train[0])"
      ],
      "execution_count": 0,
      "outputs": [
        {
          "output_type": "stream",
          "text": [
            "(60000, 28, 28)\n"
          ],
          "name": "stdout"
        },
        {
          "output_type": "execute_result",
          "data": {
            "text/plain": [
              "<matplotlib.image.AxesImage at 0x7febeb987240>"
            ]
          },
          "metadata": {
            "tags": []
          },
          "execution_count": 14
        },
        {
          "output_type": "display_data",
          "data": {
            "image/png": "[encoded data removed]",
            "text/plain": [
              "<Figure size 432x288 with 1 Axes>"
            ]
          },
          "metadata": {
            "tags": []
          }
        }
      ]
    },
    {
      "cell_type": "code",
      "metadata": {
        "id": "dkmprriw9AnZ",
        "colab_type": "code",
        "colab": {}
      },
      "source": [
        "X_train = X_train.reshape(X_train.shape[0], 28, 28,1)\n",
        "X_test = X_test.reshape(X_test.shape[0], 28, 28,1)"
      ],
      "execution_count": 0,
      "outputs": []
    },
    {
      "cell_type": "markdown",
      "metadata": {
        "id": "zXwgeYC0xcU0",
        "colab_type": "text"
      },
      "source": [
        "#Normalization of Pixels\n"
      ]
    },
    {
      "cell_type": "code",
      "metadata": {
        "id": "X2m4YS4E9CRh",
        "colab_type": "code",
        "colab": {}
      },
      "source": [
        "X_train = X_train.astype('float32')\n",
        "X_test = X_test.astype('float32')\n",
        "X_train /= 255\n",
        "X_test /= 255"
      ],
      "execution_count": 0,
      "outputs": []
    },
    {
      "cell_type": "code",
      "metadata": {
        "id": "0Mn0vAYD9DvB",
        "colab_type": "code",
        "outputId": "1d7f5223-9b66-4352-cf72-765fb92c2da3",
        "colab": {
          "base_uri": "https://localhost:8080/",
          "height": 34
        }
      },
      "source": [
        "y_train[:10]"
      ],
      "execution_count": 0,
      "outputs": [
        {
          "output_type": "execute_result",
          "data": {
            "text/plain": [
              "array([5, 0, 4, 1, 9, 2, 1, 3, 1, 4], dtype=uint8)"
            ]
          },
          "metadata": {
            "tags": []
          },
          "execution_count": 17
        }
      ]
    },
    {
      "cell_type": "code",
      "metadata": {
        "id": "ZG8JiXR39FHC",
        "colab_type": "code",
        "colab": {}
      },
      "source": [
        "# Convert 1-dimensional class arrays to 10-dimensional class matrices\n",
        "Y_train = np_utils.to_categorical(y_train, 10)\n",
        "Y_test = np_utils.to_categorical(y_test, 10)"
      ],
      "execution_count": 0,
      "outputs": []
    },
    {
      "cell_type": "code",
      "metadata": {
        "id": "fYlFRvKS9HMB",
        "colab_type": "code",
        "outputId": "3da8fe83-76c4-4a0d-b6ce-9cfc2066a559",
        "colab": {
          "base_uri": "https://localhost:8080/",
          "height": 185
        }
      },
      "source": [
        "Y_train[:10]\n"
      ],
      "execution_count": 0,
      "outputs": [
        {
          "output_type": "execute_result",
          "data": {
            "text/plain": [
              "array([[0., 0., 0., 0., 0., 1., 0., 0., 0., 0.],\n",
              "       [1., 0., 0., 0., 0., 0., 0., 0., 0., 0.],\n",
              "       [0., 0., 0., 0., 1., 0., 0., 0., 0., 0.],\n",
              "       [0., 1., 0., 0., 0., 0., 0., 0., 0., 0.],\n",
              "       [0., 0., 0., 0., 0., 0., 0., 0., 0., 1.],\n",
              "       [0., 0., 1., 0., 0., 0., 0., 0., 0., 0.],\n",
              "       [0., 1., 0., 0., 0., 0., 0., 0., 0., 0.],\n",
              "       [0., 0., 0., 1., 0., 0., 0., 0., 0., 0.],\n",
              "       [0., 1., 0., 0., 0., 0., 0., 0., 0., 0.],\n",
              "       [0., 0., 0., 0., 1., 0., 0., 0., 0., 0.]], dtype=float32)"
            ]
          },
          "metadata": {
            "tags": []
          },
          "execution_count": 19
        }
      ]
    },
    {
      "cell_type": "markdown",
      "metadata": {
        "id": "zNFGL0eXxos6",
        "colab_type": "text"
      },
      "source": [
        "#Added Batch Normalization\n",
        "\n",
        "1. Added Batch normalization after every convolution excpet the last one.\n",
        "2. Increasing the number of Epochs from 20 to 30 for this model"
      ]
    },
    {
      "cell_type": "code",
      "metadata": {
        "id": "osKqT73Q9JJB",
        "colab_type": "code",
        "outputId": "e5b75ae0-69e5-48af-a566-e18c7f3f97b5",
        "colab": {
          "base_uri": "https://localhost:8080/",
          "height": 910
        }
      },
      "source": [
        "from keras.layers import Activation\n",
        "model = Sequential()\n",
        "\n",
        "model.add(Convolution2D(12, 3, 3, activation='relu', input_shape=(28,28,1))) #(26,26,12) RF:3X3\n",
        "model.add(BatchNormalization())\n",
        "model.add(Convolution2D(14, 3, 3, activation='relu')) #(24,24,14) RF:5X5\n",
        "model.add(BatchNormalization())\n",
        "model.add(Convolution2D(16, 3, 3, activation='relu')) #(22,22,16) RF:7X7\n",
        "model.add(BatchNormalization())\n",
        "\n",
        "model.add(MaxPooling2D())\n",
        "model.add(Convolution2D(12, 1, activation='relu'))  #(11,11,12) RF :7X7\n",
        "model.add(BatchNormalization())\n",
        "\n",
        "model.add(Convolution2D(14, 3,3, activation='relu')) #(9,9,14) RF:9X9\n",
        "model.add(BatchNormalization())\n",
        "model.add(Convolution2D(16, 3, 3, activation='relu'))#(7,7,16) RF:13X13\n",
        "model.add(BatchNormalization())\n",
        "\n",
        "model.add(Convolution2D(10, 1, activation='relu'))\n",
        "model.add(BatchNormalization())\n",
        "\n",
        "model.add(Convolution2D(10,7))\n",
        "model.add(Flatten())\n",
        "model.add(Activation('softmax'))\n",
        "model.summary()"
      ],
      "execution_count": 0,
      "outputs": [
        {
          "output_type": "stream",
          "text": [
            "/usr/local/lib/python3.6/dist-packages/ipykernel_launcher.py:4: UserWarning: Update your `Conv2D` call to the Keras 2 API: `Conv2D(12, (3, 3), activation=\"relu\", input_shape=(28, 28, 1...)`\n",
            "  after removing the cwd from sys.path.\n",
            "/usr/local/lib/python3.6/dist-packages/ipykernel_launcher.py:6: UserWarning: Update your `Conv2D` call to the Keras 2 API: `Conv2D(14, (3, 3), activation=\"relu\")`\n",
            "  \n",
            "/usr/local/lib/python3.6/dist-packages/ipykernel_launcher.py:8: UserWarning: Update your `Conv2D` call to the Keras 2 API: `Conv2D(16, (3, 3), activation=\"relu\")`\n",
            "  \n",
            "/usr/local/lib/python3.6/dist-packages/ipykernel_launcher.py:15: UserWarning: Update your `Conv2D` call to the Keras 2 API: `Conv2D(14, (3, 3), activation=\"relu\")`\n",
            "  from ipykernel import kernelapp as app\n",
            "/usr/local/lib/python3.6/dist-packages/ipykernel_launcher.py:17: UserWarning: Update your `Conv2D` call to the Keras 2 API: `Conv2D(16, (3, 3), activation=\"relu\")`\n"
          ],
          "name": "stderr"
        },
        {
          "output_type": "stream",
          "text": [
            "_________________________________________________________________\n",
            "Layer (type)                 Output Shape              Param #   \n",
            "=================================================================\n",
            "conv2d_24 (Conv2D)           (None, 26, 26, 12)        120       \n",
            "_________________________________________________________________\n",
            "batch_normalization_2 (Batch (None, 26, 26, 12)        48        \n",
            "_________________________________________________________________\n",
            "conv2d_25 (Conv2D)           (None, 24, 24, 14)        1526      \n",
            "_________________________________________________________________\n",
            "batch_normalization_3 (Batch (None, 24, 24, 14)        56        \n",
            "_________________________________________________________________\n",
            "conv2d_26 (Conv2D)           (None, 22, 22, 16)        2032      \n",
            "_________________________________________________________________\n",
            "batch_normalization_4 (Batch (None, 22, 22, 16)        64        \n",
            "_________________________________________________________________\n",
            "max_pooling2d_4 (MaxPooling2 (None, 11, 11, 16)        0         \n",
            "_________________________________________________________________\n",
            "conv2d_27 (Conv2D)           (None, 11, 11, 12)        204       \n",
            "_________________________________________________________________\n",
            "batch_normalization_5 (Batch (None, 11, 11, 12)        48        \n",
            "_________________________________________________________________\n",
            "conv2d_28 (Conv2D)           (None, 9, 9, 14)          1526      \n",
            "_________________________________________________________________\n",
            "batch_normalization_6 (Batch (None, 9, 9, 14)          56        \n",
            "_________________________________________________________________\n",
            "conv2d_29 (Conv2D)           (None, 7, 7, 16)          2032      \n",
            "_________________________________________________________________\n",
            "batch_normalization_7 (Batch (None, 7, 7, 16)          64        \n",
            "_________________________________________________________________\n",
            "conv2d_30 (Conv2D)           (None, 7, 7, 10)          170       \n",
            "_________________________________________________________________\n",
            "batch_normalization_8 (Batch (None, 7, 7, 10)          40        \n",
            "_________________________________________________________________\n",
            "conv2d_31 (Conv2D)           (None, 1, 1, 10)          4910      \n",
            "_________________________________________________________________\n",
            "flatten_3 (Flatten)          (None, 10)                0         \n",
            "_________________________________________________________________\n",
            "activation_3 (Activation)    (None, 10)                0         \n",
            "=================================================================\n",
            "Total params: 12,896\n",
            "Trainable params: 12,708\n",
            "Non-trainable params: 188\n",
            "_________________________________________________________________\n"
          ],
          "name": "stdout"
        }
      ]
    },
    {
      "cell_type": "code",
      "metadata": {
        "id": "Zp6SuGrL9M3h",
        "colab_type": "code",
        "colab": {}
      },
      "source": [
        "model.compile(loss='categorical_crossentropy',\n",
        "             optimizer='adam',\n",
        "             metrics=['accuracy'])"
      ],
      "execution_count": 0,
      "outputs": []
    },
    {
      "cell_type": "markdown",
      "metadata": {
        "id": "EmePIIA6y1_X",
        "colab_type": "text"
      },
      "source": [
        "#Accuracy Improved to  99.24\n",
        "#Number of parameters:12,896\n"
      ]
    },
    {
      "cell_type": "code",
      "metadata": {
        "id": "4xWoKhPY9Of5",
        "colab_type": "code",
        "outputId": "eeb1255e-57ab-48f6-8976-16ec9b014573",
        "colab": {
          "base_uri": "https://localhost:8080/",
          "height": 1092
        }
      },
      "source": [
        "model.fit(X_train, Y_train, batch_size=32, nb_epoch=30,validation_data=(X_test,Y_test), verbose=1)"
      ],
      "execution_count": 0,
      "outputs": [
        {
          "output_type": "stream",
          "text": [
            "/usr/local/lib/python3.6/dist-packages/ipykernel_launcher.py:1: UserWarning: The `nb_epoch` argument in `fit` has been renamed `epochs`.\n",
            "  \"\"\"Entry point for launching an IPython kernel.\n"
          ],
          "name": "stderr"
        },
        {
          "output_type": "stream",
          "text": [
            "Train on 60000 samples, validate on 10000 samples\n",
            "Epoch 1/30\n",
            "60000/60000 [==============================] - 21s 350us/step - loss: 0.1451 - acc: 0.9553 - val_loss: 0.0497 - val_acc: 0.9843\n",
            "Epoch 2/30\n",
            "60000/60000 [==============================] - 21s 342us/step - loss: 0.0491 - acc: 0.9849 - val_loss: 0.0434 - val_acc: 0.9856\n",
            "Epoch 3/30\n",
            "60000/60000 [==============================] - 20s 341us/step - loss: 0.0398 - acc: 0.9876 - val_loss: 0.0371 - val_acc: 0.9881\n",
            "Epoch 4/30\n",
            "60000/60000 [==============================] - 21s 348us/step - loss: 0.0329 - acc: 0.9897 - val_loss: 0.0387 - val_acc: 0.9883\n",
            "Epoch 5/30\n",
            "60000/60000 [==============================] - 20s 328us/step - loss: 0.0282 - acc: 0.9911 - val_loss: 0.0293 - val_acc: 0.9903\n",
            "Epoch 6/30\n",
            "60000/60000 [==============================] - 20s 327us/step - loss: 0.0248 - acc: 0.9919 - val_loss: 0.0296 - val_acc: 0.9898\n",
            "Epoch 7/30\n",
            "60000/60000 [==============================] - 20s 338us/step - loss: 0.0218 - acc: 0.9928 - val_loss: 0.0338 - val_acc: 0.9894\n",
            "Epoch 8/30\n",
            "60000/60000 [==============================] - 21s 346us/step - loss: 0.0201 - acc: 0.9933 - val_loss: 0.0544 - val_acc: 0.9836\n",
            "Epoch 9/30\n",
            "60000/60000 [==============================] - 20s 325us/step - loss: 0.0179 - acc: 0.9940 - val_loss: 0.0341 - val_acc: 0.9903\n",
            "Epoch 10/30\n",
            "60000/60000 [==============================] - 19s 325us/step - loss: 0.0155 - acc: 0.9952 - val_loss: 0.0322 - val_acc: 0.9908\n",
            "Epoch 11/30\n",
            "60000/60000 [==============================] - 19s 323us/step - loss: 0.0148 - acc: 0.9953 - val_loss: 0.0387 - val_acc: 0.9890\n",
            "Epoch 12/30\n",
            "60000/60000 [==============================] - 21s 346us/step - loss: 0.0145 - acc: 0.9951 - val_loss: 0.0349 - val_acc: 0.9907\n",
            "Epoch 13/30\n",
            "60000/60000 [==============================] - 19s 324us/step - loss: 0.0123 - acc: 0.9963 - val_loss: 0.0287 - val_acc: 0.9923\n",
            "Epoch 14/30\n",
            "60000/60000 [==============================] - 19s 323us/step - loss: 0.0116 - acc: 0.9960 - val_loss: 0.0285 - val_acc: 0.9924\n",
            "Epoch 15/30\n",
            "60000/60000 [==============================] - 19s 323us/step - loss: 0.0105 - acc: 0.9964 - val_loss: 0.0398 - val_acc: 0.9901\n",
            "Epoch 16/30\n",
            "60000/60000 [==============================] - 21s 344us/step - loss: 0.0104 - acc: 0.9968 - val_loss: 0.0378 - val_acc: 0.9896\n",
            "Epoch 17/30\n",
            "60000/60000 [==============================] - 19s 323us/step - loss: 0.0095 - acc: 0.9967 - val_loss: 0.0422 - val_acc: 0.9894\n",
            "Epoch 18/30\n",
            "60000/60000 [==============================] - 21s 348us/step - loss: 0.0083 - acc: 0.9969 - val_loss: 0.0342 - val_acc: 0.9915\n",
            "Epoch 19/30\n",
            "60000/60000 [==============================] - 19s 322us/step - loss: 0.0077 - acc: 0.9973 - val_loss: 0.0435 - val_acc: 0.9895\n",
            "Epoch 20/30\n",
            "60000/60000 [==============================] - 21s 343us/step - loss: 0.0087 - acc: 0.9972 - val_loss: 0.0396 - val_acc: 0.9914\n",
            "Epoch 21/30\n",
            "60000/60000 [==============================] - 19s 320us/step - loss: 0.0076 - acc: 0.9976 - val_loss: 0.0416 - val_acc: 0.9899\n",
            "Epoch 22/30\n",
            "60000/60000 [==============================] - 20s 335us/step - loss: 0.0060 - acc: 0.9983 - val_loss: 0.0415 - val_acc: 0.9919\n",
            "Epoch 23/30\n",
            "60000/60000 [==============================] - 19s 321us/step - loss: 0.0066 - acc: 0.9979 - val_loss: 0.0379 - val_acc: 0.9915\n",
            "Epoch 24/30\n",
            "60000/60000 [==============================] - 21s 342us/step - loss: 0.0063 - acc: 0.9978 - val_loss: 0.0427 - val_acc: 0.9910\n",
            "Epoch 25/30\n",
            "60000/60000 [==============================] - 19s 321us/step - loss: 0.0060 - acc: 0.9980 - val_loss: 0.0390 - val_acc: 0.9917\n",
            "Epoch 26/30\n",
            "60000/60000 [==============================] - 19s 318us/step - loss: 0.0055 - acc: 0.9981 - val_loss: 0.0606 - val_acc: 0.9867\n",
            "Epoch 27/30\n",
            "60000/60000 [==============================] - 19s 317us/step - loss: 0.0065 - acc: 0.9978 - val_loss: 0.0388 - val_acc: 0.9919\n",
            "Epoch 28/30\n",
            "60000/60000 [==============================] - 20s 340us/step - loss: 0.0052 - acc: 0.9984 - val_loss: 0.0479 - val_acc: 0.9902\n",
            "Epoch 29/30\n",
            "60000/60000 [==============================] - 19s 318us/step - loss: 0.0067 - acc: 0.9978 - val_loss: 0.0398 - val_acc: 0.9915\n",
            "Epoch 30/30\n",
            "60000/60000 [==============================] - 19s 318us/step - loss: 0.0051 - acc: 0.9982 - val_loss: 0.0609 - val_acc: 0.9889\n"
          ],
          "name": "stdout"
        },
        {
          "output_type": "execute_result",
          "data": {
            "text/plain": [
              "<keras.callbacks.History at 0x7febbe630278>"
            ]
          },
          "metadata": {
            "tags": []
          },
          "execution_count": 29
        }
      ]
    },
    {
      "cell_type": "code",
      "metadata": {
        "id": "AtsH-lLk-eLb",
        "colab_type": "code",
        "colab": {}
      },
      "source": [
        "score = model.evaluate(X_test, Y_test, verbose=0)"
      ],
      "execution_count": 0,
      "outputs": []
    },
    {
      "cell_type": "code",
      "metadata": {
        "id": "mkX8JMv79q9r",
        "colab_type": "code",
        "outputId": "5629fd19-263c-445f-9397-8e5e5580f7e7",
        "colab": {
          "base_uri": "https://localhost:8080/",
          "height": 34
        }
      },
      "source": [
        "print(score)"
      ],
      "execution_count": 0,
      "outputs": [
        {
          "output_type": "stream",
          "text": [
            "[0.04465369085110979, 0.9892]\n"
          ],
          "name": "stdout"
        }
      ]
    },
    {
      "cell_type": "code",
      "metadata": {
        "id": "OCWoJkwE9suh",
        "colab_type": "code",
        "colab": {}
      },
      "source": [
        "y_pred = model.predict(X_test)"
      ],
      "execution_count": 0,
      "outputs": []
    },
    {
      "cell_type": "code",
      "metadata": {
        "id": "Ym7iCFBm9uBs",
        "colab_type": "code",
        "outputId": "53c2e6a7-ce79-42c5-fce4-8a3bcbcfbac6",
        "colab": {
          "base_uri": "https://localhost:8080/",
          "height": 336
        }
      },
      "source": [
        "print(y_pred[:9])\n",
        "print(y_test[:9])"
      ],
      "execution_count": 0,
      "outputs": [
        {
          "output_type": "stream",
          "text": [
            "[[3.4137986e-14 1.0199450e-15 3.8357952e-09 3.5022317e-08 3.0480218e-18\n",
            "  9.4360339e-18 6.1080755e-31 1.0000000e+00 2.4515173e-12 1.7935351e-11]\n",
            " [5.9250552e-15 2.1536893e-13 1.0000000e+00 9.6459629e-17 2.7163532e-23\n",
            "  2.3026589e-15 1.1406938e-13 8.8546596e-20 5.8518788e-13 2.9938948e-18]\n",
            " [5.7009319e-10 9.9999797e-01 3.1237548e-08 5.9275790e-10 1.8485400e-09\n",
            "  1.6276199e-09 2.5351750e-09 1.3037791e-06 6.8179293e-07 1.7032657e-10]\n",
            " [1.0000000e+00 1.2682165e-19 2.0265246e-10 1.3566061e-13 1.9595551e-16\n",
            "  1.6772422e-15 9.0452970e-09 1.3268867e-18 8.1662094e-10 3.7418983e-12]\n",
            " [1.1440360e-17 7.2161781e-16 5.0241829e-20 9.3783524e-21 1.0000000e+00\n",
            "  3.0302045e-17 2.0565819e-17 1.2910765e-18 2.1053765e-17 1.5686136e-10]\n",
            " [2.0836027e-10 9.9999368e-01 4.6921964e-09 2.2620443e-10 9.0430836e-09\n",
            "  5.8520605e-11 5.0808677e-11 5.5651576e-06 7.6464852e-07 1.0649316e-09]\n",
            " [1.6497646e-22 5.2466359e-17 3.5891117e-13 1.3223479e-18 9.9998391e-01\n",
            "  3.6431416e-14 1.9734887e-19 1.0730355e-10 1.2183450e-08 1.6054399e-05]\n",
            " [2.6741764e-20 2.3676085e-12 4.3475092e-13 1.0043579e-11 7.4887561e-05\n",
            "  3.7771369e-10 2.9967183e-20 1.1262460e-08 1.9056819e-11 9.9992514e-01]\n",
            " [3.3842716e-15 1.1198661e-21 8.2454533e-20 2.5923361e-16 8.8260401e-24\n",
            "  9.9999964e-01 3.5800204e-07 2.4515962e-23 1.8227675e-09 5.6106747e-13]]\n",
            "[7 2 1 0 4 1 4 9 5]\n"
          ],
          "name": "stdout"
        }
      ]
    },
    {
      "cell_type": "code",
      "metadata": {
        "id": "CT--y98_dr2T",
        "colab_type": "code",
        "colab": {}
      },
      "source": [
        "layer_dict = dict([(layer.name, layer) for layer in model.layers])"
      ],
      "execution_count": 0,
      "outputs": []
    },
    {
      "cell_type": "code",
      "metadata": {
        "id": "g3tMKroqzz0-",
        "colab_type": "code",
        "outputId": "5ed3b82c-e348-4bbd-bf67-25fca845bd5d",
        "colab": {
          "base_uri": "https://localhost:8080/",
          "height": 185
        }
      },
      "source": [
        "layer_dict"
      ],
      "execution_count": 0,
      "outputs": [
        {
          "output_type": "execute_result",
          "data": {
            "text/plain": [
              "{'activation_1': <keras.layers.core.Activation at 0x7f0f01d88cf8>,\n",
              " 'conv2d_1': <keras.layers.convolutional.Conv2D at 0x7f0f04ee3be0>,\n",
              " 'conv2d_2': <keras.layers.convolutional.Conv2D at 0x7f0f0269ca58>,\n",
              " 'conv2d_3': <keras.layers.convolutional.Conv2D at 0x7f0f0269c748>,\n",
              " 'conv2d_4': <keras.layers.convolutional.Conv2D at 0x7f0f01e801d0>,\n",
              " 'conv2d_5': <keras.layers.convolutional.Conv2D at 0x7f0f01e80080>,\n",
              " 'conv2d_6': <keras.layers.convolutional.Conv2D at 0x7f0f01e1b780>,\n",
              " 'conv2d_7': <keras.layers.convolutional.Conv2D at 0x7f0f01e302e8>,\n",
              " 'flatten_1': <keras.layers.core.Flatten at 0x7f0f01df0160>,\n",
              " 'max_pooling2d_1': <keras.layers.pooling.MaxPooling2D at 0x7f0f0269c630>}"
            ]
          },
          "metadata": {
            "tags": []
          },
          "execution_count": 19
        }
      ]
    },
    {
      "cell_type": "code",
      "metadata": {
        "id": "2GY4Upv4dsUR",
        "colab_type": "code",
        "outputId": "e56bf584-2dda-4986-ce11-3a37c49016ad",
        "colab": {
          "base_uri": "https://localhost:8080/",
          "height": 313
        }
      },
      "source": [
        "import numpy as np\n",
        "from matplotlib import pyplot as plt\n",
        "from keras import backend as K\n",
        "%matplotlib inline\n",
        "# util function to convert a tensor into a valid image\n",
        "def deprocess_image(x):\n",
        "    # normalize tensor: center on 0., ensure std is 0.1\n",
        "    x -= x.mean()\n",
        "    x /= (x.std() + 1e-5)\n",
        "    x *= 0.1\n",
        "\n",
        "    # clip to [0, 1]\n",
        "    x += 0.5\n",
        "    x = np.clip(x, 0, 1)\n",
        "\n",
        "    # convert to RGB array\n",
        "    x *= 255\n",
        "    #x = x.transpose((1, 2, 0))\n",
        "    x = np.clip(x, 0, 255).astype('uint8')\n",
        "    return x\n",
        "\n",
        "def vis_img_in_filter(img = np.array(X_train[2]).reshape((1, 28, 28, 1)).astype(np.float64), \n",
        "                      layer_name = 'conv2d_32'):\n",
        "    layer_output = layer_dict[layer_name].output\n",
        "    img_ascs = list()\n",
        "    for filter_index in range(layer_output.shape[3]):\n",
        "        # build a loss function that maximizes the activation\n",
        "        # of the nth filter of the layer considered\n",
        "        loss = K.mean(layer_output[:, :, :, filter_index])\n",
        "\n",
        "        # compute the gradient of the input picture wrt this loss\n",
        "        grads = K.gradients(loss, model.input)[0]\n",
        "\n",
        "        # normalization trick: we normalize the gradient\n",
        "        grads /= (K.sqrt(K.mean(K.square(grads))) + 1e-5)\n",
        "\n",
        "        # this function returns the loss and grads given the input picture\n",
        "        iterate = K.function([model.input], [loss, grads])\n",
        "\n",
        "        # step size for gradient ascent\n",
        "        step = 5.\n",
        "\n",
        "        img_asc = np.array(img)\n",
        "        # run gradient ascent for 20 steps\n",
        "        for i in range(20):\n",
        "            loss_value, grads_value = iterate([img_asc])\n",
        "            img_asc += grads_value * step\n",
        "\n",
        "        img_asc = img_asc[0]\n",
        "        img_ascs.append(deprocess_image(img_asc).reshape((28, 28)))\n",
        "        \n",
        "    if layer_output.shape[3] >= 35:\n",
        "        plot_x, plot_y = 6, 6\n",
        "    elif layer_output.shape[3] >= 23:\n",
        "        plot_x, plot_y = 4, 6\n",
        "    elif layer_output.shape[3] >= 11:\n",
        "        plot_x, plot_y = 2, 6\n",
        "    else:\n",
        "        plot_x, plot_y = 1, 2\n",
        "    fig, ax = plt.subplots(plot_x, plot_y, figsize = (12, 12))\n",
        "    ax[0, 0].imshow(img.reshape((28, 28)), cmap = 'gray')\n",
        "    ax[0, 0].set_title('Input image')\n",
        "    fig.suptitle('Input image and %s filters' % (layer_name,))\n",
        "    fig.tight_layout(pad = 0.3, rect = [0, 0, 0.9, 0.9])\n",
        "    for (x, y) in [(i, j) for i in range(plot_x) for j in range(plot_y)]:\n",
        "        if x == 0 and y == 0:\n",
        "            continue\n",
        "        ax[x, y].imshow(img_ascs[x * plot_y + y - 1], cmap = 'gray')\n",
        "        ax[x, y].set_title('filter %d' % (x * plot_y + y - 1))\n",
        "\n",
        "vis_img_in_filter()"
      ],
      "execution_count": 0,
      "outputs": [
        {
          "output_type": "error",
          "ename": "KeyError",
          "evalue": "ignored",
          "traceback": [
            "\u001b[0;31m---------------------------------------------------------------------------\u001b[0m",
            "\u001b[0;31mKeyError\u001b[0m                                  Traceback (most recent call last)",
            "\u001b[0;32m<ipython-input-20-0c12293ecbc0>\u001b[0m in \u001b[0;36m<module>\u001b[0;34m()\u001b[0m\n\u001b[1;32m     69\u001b[0m         \u001b[0max\u001b[0m\u001b[0;34m[\u001b[0m\u001b[0mx\u001b[0m\u001b[0;34m,\u001b[0m \u001b[0my\u001b[0m\u001b[0;34m]\u001b[0m\u001b[0;34m.\u001b[0m\u001b[0mset_title\u001b[0m\u001b[0;34m(\u001b[0m\u001b[0;34m'filter %d'\u001b[0m \u001b[0;34m%\u001b[0m \u001b[0;34m(\u001b[0m\u001b[0mx\u001b[0m \u001b[0;34m*\u001b[0m \u001b[0mplot_y\u001b[0m \u001b[0;34m+\u001b[0m \u001b[0my\u001b[0m \u001b[0;34m-\u001b[0m \u001b[0;36m1\u001b[0m\u001b[0;34m)\u001b[0m\u001b[0;34m)\u001b[0m\u001b[0;34m\u001b[0m\u001b[0;34m\u001b[0m\u001b[0m\n\u001b[1;32m     70\u001b[0m \u001b[0;34m\u001b[0m\u001b[0m\n\u001b[0;32m---> 71\u001b[0;31m \u001b[0mvis_img_in_filter\u001b[0m\u001b[0;34m(\u001b[0m\u001b[0;34m)\u001b[0m\u001b[0;34m\u001b[0m\u001b[0;34m\u001b[0m\u001b[0m\n\u001b[0m",
            "\u001b[0;32m<ipython-input-20-0c12293ecbc0>\u001b[0m in \u001b[0;36mvis_img_in_filter\u001b[0;34m(img, layer_name)\u001b[0m\n\u001b[1;32m     22\u001b[0m def vis_img_in_filter(img = np.array(X_train[2]).reshape((1, 28, 28, 1)).astype(np.float64), \n\u001b[1;32m     23\u001b[0m                       layer_name = 'conv2d_32'):\n\u001b[0;32m---> 24\u001b[0;31m     \u001b[0mlayer_output\u001b[0m \u001b[0;34m=\u001b[0m \u001b[0mlayer_dict\u001b[0m\u001b[0;34m[\u001b[0m\u001b[0mlayer_name\u001b[0m\u001b[0;34m]\u001b[0m\u001b[0;34m.\u001b[0m\u001b[0moutput\u001b[0m\u001b[0;34m\u001b[0m\u001b[0;34m\u001b[0m\u001b[0m\n\u001b[0m\u001b[1;32m     25\u001b[0m     \u001b[0mimg_ascs\u001b[0m \u001b[0;34m=\u001b[0m \u001b[0mlist\u001b[0m\u001b[0;34m(\u001b[0m\u001b[0;34m)\u001b[0m\u001b[0;34m\u001b[0m\u001b[0;34m\u001b[0m\u001b[0m\n\u001b[1;32m     26\u001b[0m     \u001b[0;32mfor\u001b[0m \u001b[0mfilter_index\u001b[0m \u001b[0;32min\u001b[0m \u001b[0mrange\u001b[0m\u001b[0;34m(\u001b[0m\u001b[0mlayer_output\u001b[0m\u001b[0;34m.\u001b[0m\u001b[0mshape\u001b[0m\u001b[0;34m[\u001b[0m\u001b[0;36m3\u001b[0m\u001b[0;34m]\u001b[0m\u001b[0;34m)\u001b[0m\u001b[0;34m:\u001b[0m\u001b[0;34m\u001b[0m\u001b[0;34m\u001b[0m\u001b[0m\n",
            "\u001b[0;31mKeyError\u001b[0m: 'conv2d_32'"
          ]
        }
      ]
    },
    {
      "cell_type": "code",
      "metadata": {
        "id": "i45aQui51CTs",
        "colab_type": "code",
        "colab": {}
      },
      "source": [
        ""
      ],
      "execution_count": 0,
      "outputs": []
    },
    {
      "cell_type": "code",
      "metadata": {
        "id": "9tvptcn8dxvp",
        "colab_type": "code",
        "colab": {}
      },
      "source": [
        ""
      ],
      "execution_count": 0,
      "outputs": []
    }
  ]
}