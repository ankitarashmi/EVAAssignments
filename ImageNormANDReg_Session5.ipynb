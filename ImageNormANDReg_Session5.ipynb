{
  "nbformat": 4,
  "nbformat_minor": 0,
  "metadata": {
    "colab": {
      "name": "ImageNormANDReg_Session5",
      "version": "0.3.2",
      "provenance": [],
      "collapsed_sections": [],
      "include_colab_link": true
    },
    "kernelspec": {
      "name": "python3",
      "display_name": "Python 3"
    },
    "accelerator": "GPU"
  },
  "cells": [
    {
      "cell_type": "markdown",
      "metadata": {
        "id": "view-in-github",
        "colab_type": "text"
      },
      "source": [
        "<a href=\"https://colab.research.google.com/github/ankitarashmi/EVAAssignments/blob/master/ImageNormANDReg_Session5.ipynb\" target=\"_parent\"><img src=\"https://colab.research.google.com/assets/colab-badge.svg\" alt=\"Open In Colab\"/></a>"
      ]
    },
    {
      "cell_type": "markdown",
      "metadata": {
        "id": "aNyZv-Ec52ot",
        "colab_type": "text"
      },
      "source": [
        "# **Import Libraries and modules**"
      ]
    },
    {
      "cell_type": "code",
      "metadata": {
        "id": "3m3w1Cw49Zkt",
        "colab_type": "code",
        "outputId": "f9d850c4-a189-4ece-ca51-4a03ab6b12d8",
        "colab": {
          "base_uri": "https://localhost:8080/",
          "height": 34
        }
      },
      "source": [
        "# https://keras.io/\n",
        "!pip install -q keras\n",
        "import keras"
      ],
      "execution_count": 1,
      "outputs": [
        {
          "output_type": "stream",
          "text": [
            "Using TensorFlow backend.\n"
          ],
          "name": "stderr"
        }
      ]
    },
    {
      "cell_type": "code",
      "metadata": {
        "id": "Eso6UHE080D4",
        "colab_type": "code",
        "colab": {}
      },
      "source": [
        "import numpy as np\n",
        "\n",
        "from keras.models import Sequential\n",
        "from keras.layers import Dense, Dropout, Activation, Flatten, Add, BatchNormalization\n",
        "from keras.layers import Convolution2D, MaxPooling2D\n",
        "from keras.utils import np_utils\n",
        "\n",
        "from keras.datasets import mnist\n",
        "\n",
        "from keras.datasets import mnist\n",
        "from keras.preprocessing.image import ImageDataGenerator #Data Generater\n",
        "from keras import regularizers #Regularizer\n",
        "from keras.callbacks import ModelCheckpoint #Checkpoints"
      ],
      "execution_count": 0,
      "outputs": []
    },
    {
      "cell_type": "markdown",
      "metadata": {
        "id": "zByEi95J86RD",
        "colab_type": "text"
      },
      "source": [
        "### Load pre-shuffled MNIST data into train and test sets"
      ]
    },
    {
      "cell_type": "code",
      "metadata": {
        "id": "7eRM0QWN83PV",
        "colab_type": "code",
        "colab": {}
      },
      "source": [
        "(X_train, y_train), (X_test, y_test) = mnist.load_data()"
      ],
      "execution_count": 0,
      "outputs": []
    },
    {
      "cell_type": "code",
      "metadata": {
        "id": "4a4Be72j8-ZC",
        "colab_type": "code",
        "outputId": "cb3405d7-8abb-4da4-cff5-163e94e77a3b",
        "colab": {
          "base_uri": "https://localhost:8080/",
          "height": 302
        }
      },
      "source": [
        "print (X_train.shape)\n",
        "from matplotlib import pyplot as plt\n",
        "%matplotlib inline\n",
        "plt.imshow(X_train[0])"
      ],
      "execution_count": 4,
      "outputs": [
        {
          "output_type": "stream",
          "text": [
            "(60000, 28, 28)\n"
          ],
          "name": "stdout"
        },
        {
          "output_type": "execute_result",
          "data": {
            "text/plain": [
              "<matplotlib.image.AxesImage at 0x7f7c2e97a320>"
            ]
          },
          "metadata": {
            "tags": []
          },
          "execution_count": 4
        },
        {
          "output_type": "display_data",
          "data": {
            "image/png": "[encoded data removed]",
            "text/plain": [
              "<Figure size 432x288 with 1 Axes>"
            ]
          },
          "metadata": {
            "tags": []
          }
        }
      ]
    },
    {
      "cell_type": "code",
      "metadata": {
        "id": "dkmprriw9AnZ",
        "colab_type": "code",
        "colab": {}
      },
      "source": [
        "X_train = X_train.reshape(X_train.shape[0], 28, 28,1)\n",
        "X_test = X_test.reshape(X_test.shape[0], 28, 28,1)"
      ],
      "execution_count": 0,
      "outputs": []
    },
    {
      "cell_type": "code",
      "metadata": {
        "id": "0Mn0vAYD9DvB",
        "colab_type": "code",
        "outputId": "53aa740b-cd66-4dbe-8a96-572fea511c1b",
        "colab": {
          "base_uri": "https://localhost:8080/",
          "height": 34
        }
      },
      "source": [
        "y_train[:10]"
      ],
      "execution_count": 6,
      "outputs": [
        {
          "output_type": "execute_result",
          "data": {
            "text/plain": [
              "array([5, 0, 4, 1, 9, 2, 1, 3, 1, 4], dtype=uint8)"
            ]
          },
          "metadata": {
            "tags": []
          },
          "execution_count": 6
        }
      ]
    },
    {
      "cell_type": "code",
      "metadata": {
        "id": "ZG8JiXR39FHC",
        "colab_type": "code",
        "colab": {}
      },
      "source": [
        "# Convert 1-dimensional class arrays to 10-dimensional class matrices\n",
        "Y_train = np_utils.to_categorical(y_train, 10)\n",
        "Y_test = np_utils.to_categorical(y_test, 10)"
      ],
      "execution_count": 0,
      "outputs": []
    },
    {
      "cell_type": "markdown",
      "metadata": {
        "id": "-rbXi6idsviv",
        "colab_type": "text"
      },
      "source": [
        "#Image Normalization\n"
      ]
    },
    {
      "cell_type": "code",
      "metadata": {
        "id": "nnRsfmxGQIkt",
        "colab_type": "code",
        "colab": {
          "base_uri": "https://localhost:8080/",
          "height": 50
        },
        "outputId": "6147d1db-783a-4f07-98c0-b1654d0a5a24"
      },
      "source": [
        "print('Statistics train=%.3f (%.3f), test=%.3f (%.3f)' % (X_train.mean(), X_train.std(), X_test.mean(), X_test.std()))\n",
        "\n",
        "datagen = ImageDataGenerator(featurewise_center=True, featurewise_std_normalization=True) #generates batches of real time augmented images\n",
        "\n",
        "datagen.fit(X_train) #computes mean and std deviation for normalization\n",
        "print('Data Generator mean=%.3f, std=%.3f' % (datagen.mean, datagen.std))\n",
        "\n"
      ],
      "execution_count": 20,
      "outputs": [
        {
          "output_type": "stream",
          "text": [
            "Statistics train=33.318 (78.567), test=33.791 (79.172)\n",
            "Data Generator mean=33.318, std=78.567\n"
          ],
          "name": "stdout"
        }
      ]
    },
    {
      "cell_type": "code",
      "metadata": {
        "id": "fYlFRvKS9HMB",
        "colab_type": "code",
        "outputId": "27937e80-2144-400b-934b-108948b82bb2",
        "colab": {
          "base_uri": "https://localhost:8080/",
          "height": 185
        }
      },
      "source": [
        "Y_train[:10]\n"
      ],
      "execution_count": 22,
      "outputs": [
        {
          "output_type": "execute_result",
          "data": {
            "text/plain": [
              "array([[0., 0., 0., 0., 0., 1., 0., 0., 0., 0.],\n",
              "       [1., 0., 0., 0., 0., 0., 0., 0., 0., 0.],\n",
              "       [0., 0., 0., 0., 1., 0., 0., 0., 0., 0.],\n",
              "       [0., 1., 0., 0., 0., 0., 0., 0., 0., 0.],\n",
              "       [0., 0., 0., 0., 0., 0., 0., 0., 0., 1.],\n",
              "       [0., 0., 1., 0., 0., 0., 0., 0., 0., 0.],\n",
              "       [0., 1., 0., 0., 0., 0., 0., 0., 0., 0.],\n",
              "       [0., 0., 0., 1., 0., 0., 0., 0., 0., 0.],\n",
              "       [0., 1., 0., 0., 0., 0., 0., 0., 0., 0.],\n",
              "       [0., 0., 0., 0., 1., 0., 0., 0., 0., 0.]], dtype=float32)"
            ]
          },
          "metadata": {
            "tags": []
          },
          "execution_count": 22
        }
      ]
    },
    {
      "cell_type": "markdown",
      "metadata": {
        "id": "zNFGL0eXxos6",
        "colab_type": "text"
      },
      "source": [
        "#Added regularizer(L2) and ReLu after Normalization"
      ]
    },
    {
      "cell_type": "code",
      "metadata": {
        "id": "osKqT73Q9JJB",
        "colab_type": "code",
        "outputId": "796fda26-1a4a-43df-b47f-072de52fb56a",
        "colab": {
          "base_uri": "https://localhost:8080/",
          "height": 1297
        }
      },
      "source": [
        "from keras.layers import Activation\n",
        "model = Sequential()\n",
        "\n",
        "model.add(Convolution2D(12, 3, 3, kernel_regularizer=regularizers.l2(0.01), input_shape=(28,28,1))) #(26,26,12) RF:3X3\n",
        "model.add(BatchNormalization())\n",
        "model.add(Activation('relu'))\n",
        "model.add(Convolution2D(14, 3, 3,kernel_regularizer=regularizers.l2(0.01))) #(24,24,14) RF:5X5\n",
        "model.add(BatchNormalization())\n",
        "model.add(Activation('relu'))\n",
        "model.add(Convolution2D(16, 3, 3, kernel_regularizer=regularizers.l2(0.01))) #(22,22,16) RF:7X7\n",
        "model.add(BatchNormalization())\n",
        "model.add(Activation('relu'))\n",
        "model.add(Dropout(0.25))\n",
        "\n",
        "model.add(MaxPooling2D())\n",
        "model.add(Convolution2D(12, 1, kernel_regularizer=regularizers.l2(0.01)))  #(11,11,12) RF :7X7\n",
        "model.add(BatchNormalization())\n",
        "model.add(Activation('relu'))\n",
        "\n",
        "model.add(Convolution2D(14, 3,3, kernel_regularizer=regularizers.l2(0.01))) #(9,9,14) RF:9X9\n",
        "model.add(BatchNormalization())\n",
        "model.add(Activation('relu'))\n",
        "model.add(Convolution2D(16, 3, 3, kernel_regularizer=regularizers.l2(0.01)))#(7,7,16) RF:13X13\n",
        "model.add(BatchNormalization())\n",
        "model.add(Activation('relu'))\n",
        "model.add(Dropout(0.25))\n",
        "\n",
        "\n",
        "\n",
        "model.add(Convolution2D(10, 1, kernel_regularizer=regularizers.l2(0.01)))\n",
        "model.add(BatchNormalization())\n",
        "model.add(Activation('relu'))\n",
        "\n",
        "model.add(Convolution2D(10,7))\n",
        "model.add(Flatten())\n",
        "model.add(Activation('softmax'))\n",
        "model.summary()"
      ],
      "execution_count": 10,
      "outputs": [
        {
          "output_type": "stream",
          "text": [
            "WARNING:tensorflow:From /usr/local/lib/python3.6/dist-packages/tensorflow/python/framework/op_def_library.py:263: colocate_with (from tensorflow.python.framework.ops) is deprecated and will be removed in a future version.\n",
            "Instructions for updating:\n",
            "Colocations handled automatically by placer.\n"
          ],
          "name": "stdout"
        },
        {
          "output_type": "stream",
          "text": [
            "/usr/local/lib/python3.6/dist-packages/ipykernel_launcher.py:4: UserWarning: Update your `Conv2D` call to the Keras 2 API: `Conv2D(12, (3, 3), kernel_regularizer=<keras.reg..., input_shape=(28, 28, 1...)`\n",
            "  after removing the cwd from sys.path.\n"
          ],
          "name": "stderr"
        },
        {
          "output_type": "stream",
          "text": [
            "WARNING:tensorflow:From /usr/local/lib/python3.6/dist-packages/keras/backend/tensorflow_backend.py:3445: calling dropout (from tensorflow.python.ops.nn_ops) with keep_prob is deprecated and will be removed in a future version.\n",
            "Instructions for updating:\n",
            "Please use `rate` instead of `keep_prob`. Rate should be set to `rate = 1 - keep_prob`.\n"
          ],
          "name": "stdout"
        },
        {
          "output_type": "stream",
          "text": [
            "/usr/local/lib/python3.6/dist-packages/ipykernel_launcher.py:7: UserWarning: Update your `Conv2D` call to the Keras 2 API: `Conv2D(14, (3, 3), kernel_regularizer=<keras.reg...)`\n",
            "  import sys\n",
            "/usr/local/lib/python3.6/dist-packages/ipykernel_launcher.py:10: UserWarning: Update your `Conv2D` call to the Keras 2 API: `Conv2D(16, (3, 3), kernel_regularizer=<keras.reg...)`\n",
            "  # Remove the CWD from sys.path while we load stuff.\n",
            "/usr/local/lib/python3.6/dist-packages/ipykernel_launcher.py:20: UserWarning: Update your `Conv2D` call to the Keras 2 API: `Conv2D(14, (3, 3), kernel_regularizer=<keras.reg...)`\n",
            "/usr/local/lib/python3.6/dist-packages/ipykernel_launcher.py:23: UserWarning: Update your `Conv2D` call to the Keras 2 API: `Conv2D(16, (3, 3), kernel_regularizer=<keras.reg...)`\n"
          ],
          "name": "stderr"
        },
        {
          "output_type": "stream",
          "text": [
            "_________________________________________________________________\n",
            "Layer (type)                 Output Shape              Param #   \n",
            "=================================================================\n",
            "conv2d_1 (Conv2D)            (None, 26, 26, 12)        120       \n",
            "_________________________________________________________________\n",
            "batch_normalization_1 (Batch (None, 26, 26, 12)        48        \n",
            "_________________________________________________________________\n",
            "activation_1 (Activation)    (None, 26, 26, 12)        0         \n",
            "_________________________________________________________________\n",
            "conv2d_2 (Conv2D)            (None, 24, 24, 14)        1526      \n",
            "_________________________________________________________________\n",
            "batch_normalization_2 (Batch (None, 24, 24, 14)        56        \n",
            "_________________________________________________________________\n",
            "activation_2 (Activation)    (None, 24, 24, 14)        0         \n",
            "_________________________________________________________________\n",
            "conv2d_3 (Conv2D)            (None, 22, 22, 16)        2032      \n",
            "_________________________________________________________________\n",
            "batch_normalization_3 (Batch (None, 22, 22, 16)        64        \n",
            "_________________________________________________________________\n",
            "activation_3 (Activation)    (None, 22, 22, 16)        0         \n",
            "_________________________________________________________________\n",
            "dropout_1 (Dropout)          (None, 22, 22, 16)        0         \n",
            "_________________________________________________________________\n",
            "max_pooling2d_1 (MaxPooling2 (None, 11, 11, 16)        0         \n",
            "_________________________________________________________________\n",
            "conv2d_4 (Conv2D)            (None, 11, 11, 12)        204       \n",
            "_________________________________________________________________\n",
            "batch_normalization_4 (Batch (None, 11, 11, 12)        48        \n",
            "_________________________________________________________________\n",
            "activation_4 (Activation)    (None, 11, 11, 12)        0         \n",
            "_________________________________________________________________\n",
            "conv2d_5 (Conv2D)            (None, 9, 9, 14)          1526      \n",
            "_________________________________________________________________\n",
            "batch_normalization_5 (Batch (None, 9, 9, 14)          56        \n",
            "_________________________________________________________________\n",
            "activation_5 (Activation)    (None, 9, 9, 14)          0         \n",
            "_________________________________________________________________\n",
            "conv2d_6 (Conv2D)            (None, 7, 7, 16)          2032      \n",
            "_________________________________________________________________\n",
            "batch_normalization_6 (Batch (None, 7, 7, 16)          64        \n",
            "_________________________________________________________________\n",
            "activation_6 (Activation)    (None, 7, 7, 16)          0         \n",
            "_________________________________________________________________\n",
            "dropout_2 (Dropout)          (None, 7, 7, 16)          0         \n",
            "_________________________________________________________________\n",
            "conv2d_7 (Conv2D)            (None, 7, 7, 10)          170       \n",
            "_________________________________________________________________\n",
            "batch_normalization_7 (Batch (None, 7, 7, 10)          40        \n",
            "_________________________________________________________________\n",
            "activation_7 (Activation)    (None, 7, 7, 10)          0         \n",
            "_________________________________________________________________\n",
            "conv2d_8 (Conv2D)            (None, 1, 1, 10)          4910      \n",
            "_________________________________________________________________\n",
            "flatten_1 (Flatten)          (None, 10)                0         \n",
            "_________________________________________________________________\n",
            "activation_8 (Activation)    (None, 10)                0         \n",
            "=================================================================\n",
            "Total params: 12,896\n",
            "Trainable params: 12,708\n",
            "Non-trainable params: 188\n",
            "_________________________________________________________________\n"
          ],
          "name": "stdout"
        }
      ]
    },
    {
      "cell_type": "markdown",
      "metadata": {
        "id": "1tuHOQXnu3Ft",
        "colab_type": "text"
      },
      "source": [
        "#Adding ModelCheckpoint for Saving the model with highest validation Accuracy"
      ]
    },
    {
      "cell_type": "code",
      "metadata": {
        "id": "Zp6SuGrL9M3h",
        "colab_type": "code",
        "colab": {}
      },
      "source": [
        "from keras.optimizers import Adam\n",
        "from keras.callbacks import LearningRateScheduler\n",
        "model.compile(loss='categorical_crossentropy',\n",
        "             optimizer=Adam(lr=0.003),\n",
        "             metrics=['accuracy'])\n",
        "\n",
        "filepath=\"weights-improvement-{epoch:02d}-{val_acc:.2f}.hdf5\"\n",
        "checkpoint = ModelCheckpoint(filepath, monitor='val_acc', verbose=1, save_best_only=True, mode='max',save_weights_only=False)\n",
        "callbacks_list = [checkpoint]"
      ],
      "execution_count": 0,
      "outputs": []
    },
    {
      "cell_type": "markdown",
      "metadata": {
        "id": "EmePIIA6y1_X",
        "colab_type": "text"
      },
      "source": [
        "#Accuracy of 99.77\n",
        "\n",
        "Using model.fit_generator in place of model.fit. Using the transformed train and test data after normalization.\n"
      ]
    },
    {
      "cell_type": "code",
      "metadata": {
        "id": "4xWoKhPY9Of5",
        "colab_type": "code",
        "outputId": "a81b2f16-51b4-4145-ff2e-a06b07fe7239",
        "colab": {
          "base_uri": "https://localhost:8080/",
          "height": 2792
        }
      },
      "source": [
        "#model.fit(X_train, Y_train, batch_size=512, nb_epoch=50,validation_data=(X_test,Y_test), verbose=1)\n",
        "\n",
        "train_iterator = datagen.flow(X_train, Y_train, batch_size=512)\n",
        "test_iterator = datagen.flow(X_test, Y_test, batch_size=512)\n",
        "\n",
        "\n",
        "model.fit_generator(train_iterator,\n",
        "\tvalidation_data=test_iterator,validation_steps=len(X_test)/512, steps_per_epoch=len(X_train)/512 ,callbacks=callbacks_list,\n",
        "\tepochs=40)"
      ],
      "execution_count": 12,
      "outputs": [
        {
          "output_type": "stream",
          "text": [
            "WARNING:tensorflow:From /usr/local/lib/python3.6/dist-packages/tensorflow/python/ops/math_ops.py:3066: to_int32 (from tensorflow.python.ops.math_ops) is deprecated and will be removed in a future version.\n",
            "Instructions for updating:\n",
            "Use tf.cast instead.\n",
            "Epoch 1/40\n",
            "118/117 [==============================] - 7s 55ms/step - loss: 0.7712 - acc: 0.9040 - val_loss: 2.9058 - val_acc: 0.2670\n",
            "\n",
            "Epoch 00001: val_acc improved from -inf to 0.26700, saving model to weights-improvement-01-0.27.hdf5\n",
            "Epoch 2/40\n",
            "118/117 [==============================] - 3s 26ms/step - loss: 0.1804 - acc: 0.9769 - val_loss: 2.9512 - val_acc: 0.2359\n",
            "\n",
            "Epoch 00002: val_acc did not improve from 0.26700\n",
            "Epoch 3/40\n",
            "118/117 [==============================] - 3s 27ms/step - loss: 0.1207 - acc: 0.9800 - val_loss: 2.0690 - val_acc: 0.2407\n",
            "\n",
            "Epoch 00003: val_acc did not improve from 0.26700\n",
            "Epoch 4/40\n",
            "118/117 [==============================] - 3s 27ms/step - loss: 0.1033 - acc: 0.9811 - val_loss: 0.4690 - val_acc: 0.8577\n",
            "\n",
            "Epoch 00004: val_acc improved from 0.26700 to 0.85770, saving model to weights-improvement-04-0.86.hdf5\n",
            "Epoch 5/40\n",
            "118/117 [==============================] - 3s 28ms/step - loss: 0.0925 - acc: 0.9829 - val_loss: 0.4229 - val_acc: 0.8731\n",
            "\n",
            "Epoch 00005: val_acc improved from 0.85770 to 0.87310, saving model to weights-improvement-05-0.87.hdf5\n",
            "Epoch 6/40\n",
            "118/117 [==============================] - 3s 29ms/step - loss: 0.0886 - acc: 0.9836 - val_loss: 0.2886 - val_acc: 0.9157\n",
            "\n",
            "Epoch 00006: val_acc improved from 0.87310 to 0.91570, saving model to weights-improvement-06-0.92.hdf5\n",
            "Epoch 7/40\n",
            "118/117 [==============================] - 3s 27ms/step - loss: 0.0863 - acc: 0.9846 - val_loss: 0.1084 - val_acc: 0.9819\n",
            "\n",
            "Epoch 00007: val_acc improved from 0.91570 to 0.98190, saving model to weights-improvement-07-0.98.hdf5\n",
            "Epoch 8/40\n",
            "118/117 [==============================] - 3s 27ms/step - loss: 0.0839 - acc: 0.9846 - val_loss: 0.1289 - val_acc: 0.9733\n",
            "\n",
            "Epoch 00008: val_acc did not improve from 0.98190\n",
            "Epoch 9/40\n",
            "118/117 [==============================] - 3s 27ms/step - loss: 0.0813 - acc: 0.9851 - val_loss: 0.1077 - val_acc: 0.9782\n",
            "\n",
            "Epoch 00009: val_acc did not improve from 0.98190\n",
            "Epoch 10/40\n",
            "118/117 [==============================] - 3s 27ms/step - loss: 0.0825 - acc: 0.9845 - val_loss: 0.1005 - val_acc: 0.9798\n",
            "\n",
            "Epoch 00010: val_acc did not improve from 0.98190\n",
            "Epoch 11/40\n",
            "118/117 [==============================] - 3s 27ms/step - loss: 0.0832 - acc: 0.9853 - val_loss: 0.2402 - val_acc: 0.9374\n",
            "\n",
            "Epoch 00011: val_acc did not improve from 0.98190\n",
            "Epoch 12/40\n",
            "118/117 [==============================] - 3s 27ms/step - loss: 0.0841 - acc: 0.9849 - val_loss: 0.1102 - val_acc: 0.9773\n",
            "\n",
            "Epoch 00012: val_acc did not improve from 0.98190\n",
            "Epoch 13/40\n",
            "118/117 [==============================] - 3s 27ms/step - loss: 0.0779 - acc: 0.9861 - val_loss: 0.0914 - val_acc: 0.9836\n",
            "\n",
            "Epoch 00013: val_acc improved from 0.98190 to 0.98360, saving model to weights-improvement-13-0.98.hdf5\n",
            "Epoch 14/40\n",
            "118/117 [==============================] - 3s 27ms/step - loss: 0.0742 - acc: 0.9864 - val_loss: 0.0969 - val_acc: 0.9787\n",
            "\n",
            "Epoch 00014: val_acc did not improve from 0.98360\n",
            "Epoch 15/40\n",
            "118/117 [==============================] - 3s 26ms/step - loss: 0.0763 - acc: 0.9862 - val_loss: 0.0810 - val_acc: 0.9844\n",
            "\n",
            "Epoch 00015: val_acc improved from 0.98360 to 0.98440, saving model to weights-improvement-15-0.98.hdf5\n",
            "Epoch 16/40\n",
            "118/117 [==============================] - 3s 26ms/step - loss: 0.0749 - acc: 0.9868 - val_loss: 0.1487 - val_acc: 0.9618\n",
            "\n",
            "Epoch 00016: val_acc did not improve from 0.98440\n",
            "Epoch 17/40\n",
            "118/117 [==============================] - 3s 27ms/step - loss: 0.0746 - acc: 0.9861 - val_loss: 0.0792 - val_acc: 0.9847\n",
            "\n",
            "Epoch 00017: val_acc improved from 0.98440 to 0.98470, saving model to weights-improvement-17-0.98.hdf5\n",
            "Epoch 18/40\n",
            "118/117 [==============================] - 3s 27ms/step - loss: 0.0748 - acc: 0.9864 - val_loss: 0.1544 - val_acc: 0.9618\n",
            "\n",
            "Epoch 00018: val_acc did not improve from 0.98470\n",
            "Epoch 19/40\n",
            "118/117 [==============================] - 3s 27ms/step - loss: 0.0703 - acc: 0.9873 - val_loss: 0.0826 - val_acc: 0.9830\n",
            "\n",
            "Epoch 00019: val_acc did not improve from 0.98470\n",
            "Epoch 20/40\n",
            "118/117 [==============================] - 3s 27ms/step - loss: 0.0723 - acc: 0.9866 - val_loss: 0.1488 - val_acc: 0.9631\n",
            "\n",
            "Epoch 00020: val_acc did not improve from 0.98470\n",
            "Epoch 21/40\n",
            "118/117 [==============================] - 3s 27ms/step - loss: 0.0739 - acc: 0.9871 - val_loss: 0.1133 - val_acc: 0.9765\n",
            "\n",
            "Epoch 00021: val_acc did not improve from 0.98470\n",
            "Epoch 22/40\n",
            "118/117 [==============================] - 3s 27ms/step - loss: 0.0721 - acc: 0.9872 - val_loss: 0.2176 - val_acc: 0.9459\n",
            "\n",
            "Epoch 00022: val_acc did not improve from 0.98470\n",
            "Epoch 23/40\n",
            "118/117 [==============================] - 3s 28ms/step - loss: 0.0706 - acc: 0.9868 - val_loss: 0.1002 - val_acc: 0.9779\n",
            "\n",
            "Epoch 00023: val_acc did not improve from 0.98470\n",
            "Epoch 24/40\n",
            "118/117 [==============================] - 3s 28ms/step - loss: 0.0703 - acc: 0.9868 - val_loss: 0.1570 - val_acc: 0.9610\n",
            "\n",
            "Epoch 00024: val_acc did not improve from 0.98470\n",
            "Epoch 25/40\n",
            "118/117 [==============================] - 3s 28ms/step - loss: 0.0727 - acc: 0.9873 - val_loss: 0.1716 - val_acc: 0.9527\n",
            "\n",
            "Epoch 00025: val_acc did not improve from 0.98470\n",
            "Epoch 26/40\n",
            "118/117 [==============================] - 3s 27ms/step - loss: 0.0738 - acc: 0.9873 - val_loss: 0.1196 - val_acc: 0.9722\n",
            "\n",
            "Epoch 00026: val_acc did not improve from 0.98470\n",
            "Epoch 27/40\n",
            "118/117 [==============================] - 3s 27ms/step - loss: 0.0683 - acc: 0.9880 - val_loss: 0.1819 - val_acc: 0.9447\n",
            "\n",
            "Epoch 00027: val_acc did not improve from 0.98470\n",
            "Epoch 28/40\n",
            "118/117 [==============================] - 3s 27ms/step - loss: 0.0715 - acc: 0.9870 - val_loss: 0.0853 - val_acc: 0.9823\n",
            "\n",
            "Epoch 00028: val_acc did not improve from 0.98470\n",
            "Epoch 29/40\n",
            "118/117 [==============================] - 3s 27ms/step - loss: 0.0696 - acc: 0.9873 - val_loss: 0.1083 - val_acc: 0.9748\n",
            "\n",
            "Epoch 00029: val_acc did not improve from 0.98470\n",
            "Epoch 30/40\n",
            "118/117 [==============================] - 3s 27ms/step - loss: 0.0675 - acc: 0.9875 - val_loss: 0.0963 - val_acc: 0.9769\n",
            "\n",
            "Epoch 00030: val_acc did not improve from 0.98470\n",
            "Epoch 31/40\n",
            "118/117 [==============================] - 3s 27ms/step - loss: 0.0692 - acc: 0.9875 - val_loss: 0.1272 - val_acc: 0.9699\n",
            "\n",
            "Epoch 00031: val_acc did not improve from 0.98470\n",
            "Epoch 32/40\n",
            "118/117 [==============================] - 3s 27ms/step - loss: 0.0656 - acc: 0.9885 - val_loss: 0.3663 - val_acc: 0.8823\n",
            "\n",
            "Epoch 00032: val_acc did not improve from 0.98470\n",
            "Epoch 33/40\n",
            "118/117 [==============================] - 3s 27ms/step - loss: 0.0718 - acc: 0.9869 - val_loss: 0.0741 - val_acc: 0.9861\n",
            "\n",
            "Epoch 00033: val_acc improved from 0.98470 to 0.98610, saving model to weights-improvement-33-0.99.hdf5\n",
            "Epoch 34/40\n",
            "118/117 [==============================] - 3s 27ms/step - loss: 0.0732 - acc: 0.9871 - val_loss: 0.0718 - val_acc: 0.9877\n",
            "\n",
            "Epoch 00034: val_acc improved from 0.98610 to 0.98770, saving model to weights-improvement-34-0.99.hdf5\n",
            "Epoch 35/40\n",
            "118/117 [==============================] - 3s 27ms/step - loss: 0.0650 - acc: 0.9885 - val_loss: 0.1286 - val_acc: 0.9721\n",
            "\n",
            "Epoch 00035: val_acc did not improve from 0.98770\n",
            "Epoch 36/40\n",
            "118/117 [==============================] - 3s 27ms/step - loss: 0.0688 - acc: 0.9870 - val_loss: 0.0720 - val_acc: 0.9869\n",
            "\n",
            "Epoch 00036: val_acc did not improve from 0.98770\n",
            "Epoch 37/40\n",
            "118/117 [==============================] - 3s 27ms/step - loss: 0.0674 - acc: 0.9879 - val_loss: 0.0729 - val_acc: 0.9850\n",
            "\n",
            "Epoch 00037: val_acc did not improve from 0.98770\n",
            "Epoch 38/40\n",
            "118/117 [==============================] - 3s 27ms/step - loss: 0.0670 - acc: 0.9877 - val_loss: 0.1119 - val_acc: 0.9742\n",
            "\n",
            "Epoch 00038: val_acc did not improve from 0.98770\n",
            "Epoch 39/40\n",
            "118/117 [==============================] - 3s 27ms/step - loss: 0.0689 - acc: 0.9873 - val_loss: 0.1435 - val_acc: 0.9619\n",
            "\n",
            "Epoch 00039: val_acc did not improve from 0.98770\n",
            "Epoch 40/40\n",
            "118/117 [==============================] - 3s 27ms/step - loss: 0.0692 - acc: 0.9875 - val_loss: 0.0711 - val_acc: 0.9874\n",
            "\n",
            "Epoch 00040: val_acc did not improve from 0.98770\n"
          ],
          "name": "stdout"
        },
        {
          "output_type": "execute_result",
          "data": {
            "text/plain": [
              "<keras.callbacks.History at 0x7f7c2e97a940>"
            ]
          },
          "metadata": {
            "tags": []
          },
          "execution_count": 12
        }
      ]
    },
    {
      "cell_type": "markdown",
      "metadata": {
        "id": "OZoiyggKx4rq",
        "colab_type": "text"
      },
      "source": [
        "#loading the model from the saved checkpoint."
      ]
    },
    {
      "cell_type": "code",
      "metadata": {
        "id": "AtsH-lLk-eLb",
        "colab_type": "code",
        "colab": {}
      },
      "source": [
        "from keras.models import load_model\n",
        "modelPath = 'weights-improvement-34-0.99.hdf5'\n",
        "model = load_model(modelPath)\n",
        "\n",
        "score = model.evaluate_generator(test_iterator, steps=len(test_iterator), verbose=0)"
      ],
      "execution_count": 0,
      "outputs": []
    },
    {
      "cell_type": "code",
      "metadata": {
        "id": "mkX8JMv79q9r",
        "colab_type": "code",
        "outputId": "9c417886-4bf3-4cad-8864-4d25abde77f6",
        "colab": {
          "base_uri": "https://localhost:8080/",
          "height": 34
        }
      },
      "source": [
        "print(score)"
      ],
      "execution_count": 24,
      "outputs": [
        {
          "output_type": "stream",
          "text": [
            "[0.07437187094688416, 0.9868999995231629]\n"
          ],
          "name": "stdout"
        }
      ]
    },
    {
      "cell_type": "code",
      "metadata": {
        "id": "OCWoJkwE9suh",
        "colab_type": "code",
        "colab": {}
      },
      "source": [
        "y_pred = model.predict(X_test)"
      ],
      "execution_count": 0,
      "outputs": []
    },
    {
      "cell_type": "code",
      "metadata": {
        "id": "Ym7iCFBm9uBs",
        "colab_type": "code",
        "outputId": "1fa281e9-e4b2-44ec-f4cc-0fc9ec241818",
        "colab": {
          "base_uri": "https://localhost:8080/",
          "height": 336
        }
      },
      "source": [
        "print(y_pred[:9])\n",
        "print(y_test[:9])"
      ],
      "execution_count": 16,
      "outputs": [
        {
          "output_type": "stream",
          "text": [
            "[[0.0000000e+00 0.0000000e+00 0.0000000e+00 0.0000000e+00 0.0000000e+00\n",
            "  0.0000000e+00 0.0000000e+00 1.0000000e+00 0.0000000e+00 0.0000000e+00]\n",
            " [5.4396495e-29 0.0000000e+00 1.0000000e+00 0.0000000e+00 0.0000000e+00\n",
            "  0.0000000e+00 0.0000000e+00 0.0000000e+00 0.0000000e+00 0.0000000e+00]\n",
            " [0.0000000e+00 0.0000000e+00 0.0000000e+00 0.0000000e+00 0.0000000e+00\n",
            "  9.1272060e-19 0.0000000e+00 0.0000000e+00 1.0000000e+00 0.0000000e+00]\n",
            " [1.0000000e+00 0.0000000e+00 0.0000000e+00 0.0000000e+00 0.0000000e+00\n",
            "  0.0000000e+00 0.0000000e+00 0.0000000e+00 0.0000000e+00 0.0000000e+00]\n",
            " [0.0000000e+00 0.0000000e+00 0.0000000e+00 0.0000000e+00 1.0000000e+00\n",
            "  0.0000000e+00 0.0000000e+00 0.0000000e+00 3.4652327e-13 0.0000000e+00]\n",
            " [1.1301146e-36 0.0000000e+00 0.0000000e+00 0.0000000e+00 0.0000000e+00\n",
            "  1.2747931e-35 0.0000000e+00 0.0000000e+00 1.0000000e+00 0.0000000e+00]\n",
            " [0.0000000e+00 0.0000000e+00 0.0000000e+00 0.0000000e+00 0.0000000e+00\n",
            "  0.0000000e+00 0.0000000e+00 0.0000000e+00 1.0000000e+00 0.0000000e+00]\n",
            " [0.0000000e+00 0.0000000e+00 0.0000000e+00 0.0000000e+00 1.0000000e+00\n",
            "  0.0000000e+00 0.0000000e+00 0.0000000e+00 0.0000000e+00 0.0000000e+00]\n",
            " [0.0000000e+00 0.0000000e+00 0.0000000e+00 0.0000000e+00 0.0000000e+00\n",
            "  0.0000000e+00 0.0000000e+00 0.0000000e+00 1.0000000e+00 0.0000000e+00]]\n",
            "[7 2 1 0 4 1 4 9 5]\n"
          ],
          "name": "stdout"
        }
      ]
    },
    {
      "cell_type": "code",
      "metadata": {
        "id": "CT--y98_dr2T",
        "colab_type": "code",
        "colab": {}
      },
      "source": [
        "layer_dict = dict([(layer.name, layer) for layer in model.layers])"
      ],
      "execution_count": 0,
      "outputs": []
    },
    {
      "cell_type": "code",
      "metadata": {
        "id": "g3tMKroqzz0-",
        "colab_type": "code",
        "outputId": "a7c2d45a-8a22-4f5e-eb54-06f0f32ec518",
        "colab": {
          "base_uri": "https://localhost:8080/",
          "height": 470
        }
      },
      "source": [
        "layer_dict"
      ],
      "execution_count": 18,
      "outputs": [
        {
          "output_type": "execute_result",
          "data": {
            "text/plain": [
              "{'activation_1': <keras.layers.core.Activation at 0x7f7c2c1105f8>,\n",
              " 'activation_2': <keras.layers.core.Activation at 0x7f7c0e7ebba8>,\n",
              " 'activation_3': <keras.layers.core.Activation at 0x7f7c0e70c1d0>,\n",
              " 'activation_4': <keras.layers.core.Activation at 0x7f7c0e5b4320>,\n",
              " 'activation_5': <keras.layers.core.Activation at 0x7f7c0e4d92e8>,\n",
              " 'activation_6': <keras.layers.core.Activation at 0x7f7c0e3a66d8>,\n",
              " 'activation_7': <keras.layers.core.Activation at 0x7f7c0e287240>,\n",
              " 'activation_8': <keras.layers.core.Activation at 0x7f7c0e19d978>,\n",
              " 'batch_normalization_1': <keras.layers.normalization.BatchNormalization at 0x7f7c2ea13828>,\n",
              " 'batch_normalization_2': <keras.layers.normalization.BatchNormalization at 0x7f7c2c110710>,\n",
              " 'batch_normalization_3': <keras.layers.normalization.BatchNormalization at 0x7f7c0e7ebc18>,\n",
              " 'batch_normalization_4': <keras.layers.normalization.BatchNormalization at 0x7f7c0e622438>,\n",
              " 'batch_normalization_5': <keras.layers.normalization.BatchNormalization at 0x7f7c0e5b45c0>,\n",
              " 'batch_normalization_6': <keras.layers.normalization.BatchNormalization at 0x7f7c0e449400>,\n",
              " 'batch_normalization_7': <keras.layers.normalization.BatchNormalization at 0x7f7c0e318978>,\n",
              " 'conv2d_1': <keras.layers.convolutional.Conv2D at 0x7f7c79cb5128>,\n",
              " 'conv2d_2': <keras.layers.convolutional.Conv2D at 0x7f7c2b8bc898>,\n",
              " 'conv2d_3': <keras.layers.convolutional.Conv2D at 0x7f7c0e773fd0>,\n",
              " 'conv2d_4': <keras.layers.convolutional.Conv2D at 0x7f7c0e6b9eb8>,\n",
              " 'conv2d_5': <keras.layers.convolutional.Conv2D at 0x7f7c0e539d68>,\n",
              " 'conv2d_6': <keras.layers.convolutional.Conv2D at 0x7f7c0e420ba8>,\n",
              " 'conv2d_7': <keras.layers.convolutional.Conv2D at 0x7f7c0e318828>,\n",
              " 'conv2d_8': <keras.layers.convolutional.Conv2D at 0x7f7c0e250c50>,\n",
              " 'dropout_1': <keras.layers.core.Dropout at 0x7f7c0e70cbe0>,\n",
              " 'dropout_2': <keras.layers.core.Dropout at 0x7f7c0e3f0710>,\n",
              " 'flatten_1': <keras.layers.core.Flatten at 0x7f7c0e1d1cf8>,\n",
              " 'max_pooling2d_1': <keras.layers.pooling.MaxPooling2D at 0x7f7c0e70c198>}"
            ]
          },
          "metadata": {
            "tags": []
          },
          "execution_count": 18
        }
      ]
    },
    {
      "cell_type": "code",
      "metadata": {
        "id": "2GY4Upv4dsUR",
        "colab_type": "code",
        "outputId": "de04e913-92c6-4ce9-9d58-b27837fc9dfe",
        "colab": {
          "base_uri": "https://localhost:8080/",
          "height": 741
        }
      },
      "source": [
        "import numpy as np\n",
        "from matplotlib import pyplot as plt\n",
        "from keras import backend as K\n",
        "%matplotlib inline\n",
        "# util function to convert a tensor into a valid image\n",
        "def deprocess_image(x):\n",
        "    # normalize tensor: center on 0., ensure std is 0.1\n",
        "    x -= x.mean()\n",
        "    x /= (x.std() + 1e-5)\n",
        "    x *= 0.1\n",
        "\n",
        "    # clip to [0, 1]\n",
        "    x += 0.5\n",
        "    x = np.clip(x, 0, 1)\n",
        "\n",
        "    # convert to RGB array\n",
        "    x *= 255\n",
        "    #x = x.transpose((1, 2, 0))\n",
        "    x = np.clip(x, 0, 255).astype('uint8')\n",
        "    return x\n",
        "\n",
        "def vis_img_in_filter(img = np.array(X_train[2]).reshape((1, 28, 28, 1)).astype(np.float64), \n",
        "                      layer_name = 'conv2d_6'):\n",
        "    layer_output = layer_dict[layer_name].output\n",
        "    img_ascs = list()\n",
        "    for filter_index in range(layer_output.shape[3]):\n",
        "        # build a loss function that maximizes the activation\n",
        "        # of the nth filter of the layer considered\n",
        "        loss = K.mean(layer_output[:, :, :, filter_index])\n",
        "\n",
        "        # compute the gradient of the input picture wrt this loss\n",
        "        grads = K.gradients(loss, model.input)[0]\n",
        "\n",
        "        # normalization trick: we normalize the gradient\n",
        "        grads /= (K.sqrt(K.mean(K.square(grads))) + 1e-5)\n",
        "\n",
        "        # this function returns the loss and grads given the input picture\n",
        "        iterate = K.function([model.input], [loss, grads])\n",
        "\n",
        "        # step size for gradient ascent\n",
        "        step = 5.\n",
        "\n",
        "        img_asc = np.array(img)\n",
        "        # run gradient ascent for 20 steps\n",
        "        for i in range(20):\n",
        "            loss_value, grads_value = iterate([img_asc])\n",
        "            img_asc += grads_value * step\n",
        "\n",
        "        img_asc = img_asc[0]\n",
        "        img_ascs.append(deprocess_image(img_asc).reshape((28, 28)))\n",
        "        \n",
        "    if layer_output.shape[3] >= 35:\n",
        "        plot_x, plot_y = 6, 6\n",
        "    elif layer_output.shape[3] >= 23:\n",
        "        plot_x, plot_y = 4, 6\n",
        "    elif layer_output.shape[3] >= 11:\n",
        "        plot_x, plot_y = 2, 6\n",
        "    else:\n",
        "        plot_x, plot_y = 1, 2\n",
        "    fig, ax = plt.subplots(plot_x, plot_y, figsize = (12, 12))\n",
        "    ax[0, 0].imshow(img.reshape((28, 28)), cmap = 'gray')\n",
        "    ax[0, 0].set_title('Input image')\n",
        "    fig.suptitle('Input image and %s filters' % (layer_name,))\n",
        "    fig.tight_layout(pad = 0.3, rect = [0, 0, 0.9, 0.9])\n",
        "    for (x, y) in [(i, j) for i in range(plot_x) for j in range(plot_y)]:\n",
        "        if x == 0 and y == 0:\n",
        "            continue\n",
        "        ax[x, y].imshow(img_ascs[x * plot_y + y - 1], cmap = 'gray')\n",
        "        ax[x, y].set_title('filter %d' % (x * plot_y + y - 1))\n",
        "\n",
        "vis_img_in_filter()"
      ],
      "execution_count": 19,
      "outputs": [
        {
          "output_type": "display_data",
          "data": {
            "image/png": "[encoded data removed]",
            "text/plain": [
              "<Figure size 864x864 with 12 Axes>"
            ]
          },
          "metadata": {
            "tags": []
          }
        }
      ]
    },
    {
      "cell_type": "code",
      "metadata": {
        "id": "i45aQui51CTs",
        "colab_type": "code",
        "colab": {}
      },
      "source": [
        ""
      ],
      "execution_count": 0,
      "outputs": []
    },
    {
      "cell_type": "code",
      "metadata": {
        "id": "9tvptcn8dxvp",
        "colab_type": "code",
        "colab": {}
      },
      "source": [
        ""
      ],
      "execution_count": 0,
      "outputs": []
    }
  ]
}