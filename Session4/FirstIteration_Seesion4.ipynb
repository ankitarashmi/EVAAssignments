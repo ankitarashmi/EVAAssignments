{
  "nbformat": 4,
  "nbformat_minor": 0,
  "metadata": {
    "colab": {
      "name": "FirstIteration_Seesion4",
      "version": "0.3.2",
      "provenance": [],
      "collapsed_sections": [],
      "include_colab_link": true
    },
    "kernelspec": {
      "name": "python3",
      "display_name": "Python 3"
    },
    "accelerator": "GPU"
  },
  "cells": [
    {
      "cell_type": "markdown",
      "metadata": {
        "id": "view-in-github",
        "colab_type": "text"
      },
      "source": [
        "<a href=\"https://colab.research.google.com/github/ankitarashmi/EVAAssignments/blob/master/FirstIteration_Seesion4.ipynb\" target=\"_parent\"><img src=\"https://colab.research.google.com/assets/colab-badge.svg\" alt=\"Open In Colab\"/></a>"
      ]
    },
    {
      "cell_type": "markdown",
      "metadata": {
        "id": "aNyZv-Ec52ot",
        "colab_type": "text"
      },
      "source": [
        "# **Import Libraries and modules**"
      ]
    },
    {
      "cell_type": "code",
      "metadata": {
        "id": "3m3w1Cw49Zkt",
        "colab_type": "code",
        "outputId": "00343e3d-1e17-49ac-cecd-090cac9a4a32",
        "colab": {
          "base_uri": "https://localhost:8080/",
          "height": 34
        }
      },
      "source": [
        "# https://keras.io/\n",
        "!pip install -q keras\n",
        "import keras"
      ],
      "execution_count": 0,
      "outputs": [
        {
          "output_type": "stream",
          "text": [
            "Using TensorFlow backend.\n"
          ],
          "name": "stderr"
        }
      ]
    },
    {
      "cell_type": "code",
      "metadata": {
        "id": "Eso6UHE080D4",
        "colab_type": "code",
        "colab": {}
      },
      "source": [
        "import numpy as np\n",
        "\n",
        "from keras.models import Sequential\n",
        "from keras.layers import Dense, Dropout, Activation, Flatten, Add\n",
        "from keras.layers import Convolution2D, MaxPooling2D\n",
        "from keras.utils import np_utils\n",
        "\n",
        "from keras.datasets import mnist"
      ],
      "execution_count": 0,
      "outputs": []
    },
    {
      "cell_type": "markdown",
      "metadata": {
        "id": "zByEi95J86RD",
        "colab_type": "text"
      },
      "source": [
        "### Load pre-shuffled MNIST data into train and test sets"
      ]
    },
    {
      "cell_type": "code",
      "metadata": {
        "id": "7eRM0QWN83PV",
        "colab_type": "code",
        "outputId": "956da364-ca31-4547-8fa7-74b518dca413",
        "colab": {
          "base_uri": "https://localhost:8080/",
          "height": 50
        }
      },
      "source": [
        "(X_train, y_train), (X_test, y_test) = mnist.load_data()"
      ],
      "execution_count": 0,
      "outputs": [
        {
          "output_type": "stream",
          "text": [
            "Downloading data from https://s3.amazonaws.com/img-datasets/mnist.npz\n",
            "11493376/11490434 [==============================] - 0s 0us/step\n"
          ],
          "name": "stdout"
        }
      ]
    },
    {
      "cell_type": "code",
      "metadata": {
        "id": "4a4Be72j8-ZC",
        "colab_type": "code",
        "outputId": "0360f601-bc2c-4abe-8c16-1b366b6163b7",
        "colab": {
          "base_uri": "https://localhost:8080/",
          "height": 302
        }
      },
      "source": [
        "print (X_train.shape)\n",
        "from matplotlib import pyplot as plt\n",
        "%matplotlib inline\n",
        "plt.imshow(X_train[0])"
      ],
      "execution_count": 0,
      "outputs": [
        {
          "output_type": "stream",
          "text": [
            "(60000, 28, 28)\n"
          ],
          "name": "stdout"
        },
        {
          "output_type": "execute_result",
          "data": {
            "text/plain": [
              "<matplotlib.image.AxesImage at 0x7fec4ad065f8>"
            ]
          },
          "metadata": {
            "tags": []
          },
          "execution_count": 4
        },
        {
          "output_type": "display_data",
          "data": {
            "image/png": "[encoded data removed]",
            "text/plain": [
              "<Figure size 432x288 with 1 Axes>"
            ]
          },
          "metadata": {
            "tags": []
          }
        }
      ]
    },
    {
      "cell_type": "code",
      "metadata": {
        "id": "dkmprriw9AnZ",
        "colab_type": "code",
        "colab": {}
      },
      "source": [
        "X_train = X_train.reshape(X_train.shape[0], 28, 28,1)\n",
        "X_test = X_test.reshape(X_test.shape[0], 28, 28,1)"
      ],
      "execution_count": 0,
      "outputs": []
    },
    {
      "cell_type": "markdown",
      "metadata": {
        "id": "zXwgeYC0xcU0",
        "colab_type": "text"
      },
      "source": [
        "#Normalization of Pixels\n"
      ]
    },
    {
      "cell_type": "code",
      "metadata": {
        "id": "X2m4YS4E9CRh",
        "colab_type": "code",
        "colab": {}
      },
      "source": [
        "X_train = X_train.astype('float32')\n",
        "X_test = X_test.astype('float32')\n",
        "X_train /= 255\n",
        "X_test /= 255"
      ],
      "execution_count": 0,
      "outputs": []
    },
    {
      "cell_type": "code",
      "metadata": {
        "id": "0Mn0vAYD9DvB",
        "colab_type": "code",
        "outputId": "70d10dcc-9540-4beb-ffbf-360ea87bcfcc",
        "colab": {
          "base_uri": "https://localhost:8080/",
          "height": 34
        }
      },
      "source": [
        "y_train[:10]"
      ],
      "execution_count": 0,
      "outputs": [
        {
          "output_type": "execute_result",
          "data": {
            "text/plain": [
              "array([5, 0, 4, 1, 9, 2, 1, 3, 1, 4], dtype=uint8)"
            ]
          },
          "metadata": {
            "tags": []
          },
          "execution_count": 7
        }
      ]
    },
    {
      "cell_type": "code",
      "metadata": {
        "id": "ZG8JiXR39FHC",
        "colab_type": "code",
        "colab": {}
      },
      "source": [
        "# Convert 1-dimensional class arrays to 10-dimensional class matrices\n",
        "Y_train = np_utils.to_categorical(y_train, 10)\n",
        "Y_test = np_utils.to_categorical(y_test, 10)"
      ],
      "execution_count": 0,
      "outputs": []
    },
    {
      "cell_type": "code",
      "metadata": {
        "id": "fYlFRvKS9HMB",
        "colab_type": "code",
        "outputId": "b7a50466-f8a4-4367-c11c-1a35ddb78d5b",
        "colab": {
          "base_uri": "https://localhost:8080/",
          "height": 185
        }
      },
      "source": [
        "Y_train[:10]\n"
      ],
      "execution_count": 0,
      "outputs": [
        {
          "output_type": "execute_result",
          "data": {
            "text/plain": [
              "array([[0., 0., 0., 0., 0., 1., 0., 0., 0., 0.],\n",
              "       [1., 0., 0., 0., 0., 0., 0., 0., 0., 0.],\n",
              "       [0., 0., 0., 0., 1., 0., 0., 0., 0., 0.],\n",
              "       [0., 1., 0., 0., 0., 0., 0., 0., 0., 0.],\n",
              "       [0., 0., 0., 0., 0., 0., 0., 0., 0., 1.],\n",
              "       [0., 0., 1., 0., 0., 0., 0., 0., 0., 0.],\n",
              "       [0., 1., 0., 0., 0., 0., 0., 0., 0., 0.],\n",
              "       [0., 0., 0., 1., 0., 0., 0., 0., 0., 0.],\n",
              "       [0., 1., 0., 0., 0., 0., 0., 0., 0., 0.],\n",
              "       [0., 0., 0., 0., 1., 0., 0., 0., 0., 0.]], dtype=float32)"
            ]
          },
          "metadata": {
            "tags": []
          },
          "execution_count": 9
        }
      ]
    },
    {
      "cell_type": "markdown",
      "metadata": {
        "id": "zNFGL0eXxos6",
        "colab_type": "text"
      },
      "source": [
        "#Vanilla Model\n",
        "Architecture with Convolution and transition blocks"
      ]
    },
    {
      "cell_type": "code",
      "metadata": {
        "id": "osKqT73Q9JJB",
        "colab_type": "code",
        "outputId": "0d03f3f1-f516-44b4-86bf-d755374fa11c",
        "colab": {
          "base_uri": "https://localhost:8080/",
          "height": 692
        }
      },
      "source": [
        "from keras.layers import Activation\n",
        "model = Sequential()\n",
        "\n",
        "model.add(Convolution2D(32, 3, 3, activation='relu', input_shape=(28,28,1))) #(26,26,32) RF:3X3\n",
        "\n",
        "model.add(Convolution2D(64, 3, 3, activation='relu')) #(24,24,64) RF:5X5\n",
        "model.add(Convolution2D(128, 3, 3, activation='relu')) #(22,22,128) RF:7X7\n",
        "\n",
        "model.add(MaxPooling2D())\n",
        "model.add(Convolution2D(32, 1, activation='relu'))  #(11,11,32) RF :7X7\n",
        "\n",
        "model.add(Convolution2D(64, 3,3, activation='relu')) #(9,9,64) RF:9X9\n",
        "model.add(Convolution2D(128, 3, 3, activation='relu'))#(7,7,128) RF:13X13\n",
        "\n",
        "model.add(Convolution2D(10, 1, activation='relu'))\n",
        "          \n",
        "model.add(Convolution2D(10,7))\n",
        "model.add(Flatten())\n",
        "model.add(Activation('softmax'))\n",
        "model.summary()"
      ],
      "execution_count": 0,
      "outputs": [
        {
          "output_type": "stream",
          "text": [
            "_________________________________________________________________\n",
            "Layer (type)                 Output Shape              Param #   \n",
            "=================================================================\n",
            "conv2d_8 (Conv2D)            (None, 26, 26, 32)        320       \n",
            "_________________________________________________________________\n",
            "conv2d_9 (Conv2D)            (None, 24, 24, 64)        18496     \n",
            "_________________________________________________________________\n",
            "conv2d_10 (Conv2D)           (None, 22, 22, 128)       73856     \n",
            "_________________________________________________________________\n",
            "max_pooling2d_2 (MaxPooling2 (None, 11, 11, 128)       0         \n",
            "_________________________________________________________________\n",
            "conv2d_11 (Conv2D)           (None, 11, 11, 32)        4128      \n",
            "_________________________________________________________________\n",
            "conv2d_12 (Conv2D)           (None, 9, 9, 64)          18496     \n",
            "_________________________________________________________________\n",
            "conv2d_13 (Conv2D)           (None, 7, 7, 128)         73856     \n",
            "_________________________________________________________________\n",
            "conv2d_14 (Conv2D)           (None, 7, 7, 10)          1290      \n",
            "_________________________________________________________________\n",
            "conv2d_15 (Conv2D)           (None, 1, 1, 10)          4910      \n",
            "_________________________________________________________________\n",
            "flatten_2 (Flatten)          (None, 10)                0         \n",
            "_________________________________________________________________\n",
            "activation_2 (Activation)    (None, 10)                0         \n",
            "=================================================================\n",
            "Total params: 195,352\n",
            "Trainable params: 195,352\n",
            "Non-trainable params: 0\n",
            "_________________________________________________________________\n"
          ],
          "name": "stdout"
        },
        {
          "output_type": "stream",
          "text": [
            "/usr/local/lib/python3.6/dist-packages/ipykernel_launcher.py:4: UserWarning: Update your `Conv2D` call to the Keras 2 API: `Conv2D(32, (3, 3), activation=\"relu\", input_shape=(28, 28, 1...)`\n",
            "  after removing the cwd from sys.path.\n",
            "/usr/local/lib/python3.6/dist-packages/ipykernel_launcher.py:6: UserWarning: Update your `Conv2D` call to the Keras 2 API: `Conv2D(64, (3, 3), activation=\"relu\")`\n",
            "  \n",
            "/usr/local/lib/python3.6/dist-packages/ipykernel_launcher.py:7: UserWarning: Update your `Conv2D` call to the Keras 2 API: `Conv2D(128, (3, 3), activation=\"relu\")`\n",
            "  import sys\n",
            "/usr/local/lib/python3.6/dist-packages/ipykernel_launcher.py:12: UserWarning: Update your `Conv2D` call to the Keras 2 API: `Conv2D(64, (3, 3), activation=\"relu\")`\n",
            "  if sys.path[0] == '':\n",
            "/usr/local/lib/python3.6/dist-packages/ipykernel_launcher.py:13: UserWarning: Update your `Conv2D` call to the Keras 2 API: `Conv2D(128, (3, 3), activation=\"relu\")`\n",
            "  del sys.path[0]\n"
          ],
          "name": "stderr"
        }
      ]
    },
    {
      "cell_type": "code",
      "metadata": {
        "id": "Zp6SuGrL9M3h",
        "colab_type": "code",
        "colab": {}
      },
      "source": [
        "model.compile(loss='categorical_crossentropy',\n",
        "             optimizer='adam',\n",
        "             metrics=['accuracy'])"
      ],
      "execution_count": 0,
      "outputs": []
    },
    {
      "cell_type": "markdown",
      "metadata": {
        "id": "EmePIIA6y1_X",
        "colab_type": "text"
      },
      "source": [
        "#Accuracy of 99.22\n",
        "#Number of parameters:195,352\n"
      ]
    },
    {
      "cell_type": "code",
      "metadata": {
        "id": "4xWoKhPY9Of5",
        "colab_type": "code",
        "outputId": "ff83dea8-3494-4362-a9d2-c44849c7a342",
        "colab": {
          "base_uri": "https://localhost:8080/",
          "height": 756
        }
      },
      "source": [
        "model.fit(X_train, Y_train, batch_size=32, nb_epoch=20,validation_data=(X_test,Y_test), verbose=1)"
      ],
      "execution_count": 0,
      "outputs": [
        {
          "output_type": "stream",
          "text": [
            "/usr/local/lib/python3.6/dist-packages/ipykernel_launcher.py:1: UserWarning: The `nb_epoch` argument in `fit` has been renamed `epochs`.\n",
            "  \"\"\"Entry point for launching an IPython kernel.\n"
          ],
          "name": "stderr"
        },
        {
          "output_type": "stream",
          "text": [
            "Train on 60000 samples, validate on 10000 samples\n",
            "Epoch 1/20\n",
            "60000/60000 [==============================] - 15s 248us/step - loss: 0.1650 - acc: 0.9488 - val_loss: 0.0614 - val_acc: 0.9797\n",
            "Epoch 2/20\n",
            "60000/60000 [==============================] - 15s 244us/step - loss: 0.0551 - acc: 0.9825 - val_loss: 0.0436 - val_acc: 0.9857\n",
            "Epoch 3/20\n",
            "60000/60000 [==============================] - 15s 242us/step - loss: 0.0406 - acc: 0.9875 - val_loss: 0.0434 - val_acc: 0.9864\n",
            "Epoch 4/20\n",
            "60000/60000 [==============================] - 14s 236us/step - loss: 0.0327 - acc: 0.9896 - val_loss: 0.0309 - val_acc: 0.9907\n",
            "Epoch 5/20\n",
            "60000/60000 [==============================] - 14s 236us/step - loss: 0.0262 - acc: 0.9917 - val_loss: 0.0355 - val_acc: 0.9885\n",
            "Epoch 6/20\n",
            "60000/60000 [==============================] - 14s 234us/step - loss: 0.0224 - acc: 0.9927 - val_loss: 0.0395 - val_acc: 0.9883\n",
            "Epoch 7/20\n",
            "60000/60000 [==============================] - 15s 243us/step - loss: 0.0186 - acc: 0.9940 - val_loss: 0.0347 - val_acc: 0.9908\n",
            "Epoch 8/20\n",
            "60000/60000 [==============================] - 14s 234us/step - loss: 0.0170 - acc: 0.9946 - val_loss: 0.0292 - val_acc: 0.9922\n",
            "Epoch 9/20\n",
            "60000/60000 [==============================] - 14s 233us/step - loss: 0.0144 - acc: 0.9954 - val_loss: 0.0345 - val_acc: 0.9908\n",
            "Epoch 10/20\n",
            "60000/60000 [==============================] - 14s 234us/step - loss: 0.0142 - acc: 0.9955 - val_loss: 0.0331 - val_acc: 0.9901\n",
            "Epoch 11/20\n",
            "60000/60000 [==============================] - 14s 232us/step - loss: 0.0119 - acc: 0.9960 - val_loss: 0.0302 - val_acc: 0.9904\n",
            "Epoch 12/20\n",
            "60000/60000 [==============================] - 14s 234us/step - loss: 0.0106 - acc: 0.9961 - val_loss: 0.0451 - val_acc: 0.9893\n",
            "Epoch 13/20\n",
            "60000/60000 [==============================] - 15s 243us/step - loss: 0.0089 - acc: 0.9970 - val_loss: 0.0449 - val_acc: 0.9900\n",
            "Epoch 14/20\n",
            "60000/60000 [==============================] - 14s 233us/step - loss: 0.0095 - acc: 0.9969 - val_loss: 0.0336 - val_acc: 0.9913\n",
            "Epoch 15/20\n",
            "60000/60000 [==============================] - 14s 232us/step - loss: 0.0089 - acc: 0.9970 - val_loss: 0.0398 - val_acc: 0.9920\n",
            "Epoch 16/20\n",
            "60000/60000 [==============================] - 14s 233us/step - loss: 0.0095 - acc: 0.9970 - val_loss: 0.0423 - val_acc: 0.9905\n",
            "Epoch 17/20\n",
            "60000/60000 [==============================] - 14s 233us/step - loss: 0.0079 - acc: 0.9972 - val_loss: 0.0555 - val_acc: 0.9881\n",
            "Epoch 18/20\n",
            "60000/60000 [==============================] - 14s 237us/step - loss: 0.0074 - acc: 0.9976 - val_loss: 0.0383 - val_acc: 0.9911\n",
            "Epoch 19/20\n",
            "60000/60000 [==============================] - 14s 237us/step - loss: 0.0076 - acc: 0.9977 - val_loss: 0.0435 - val_acc: 0.9902\n",
            "Epoch 20/20\n",
            "60000/60000 [==============================] - 14s 231us/step - loss: 0.0086 - acc: 0.9974 - val_loss: 0.0506 - val_acc: 0.9884\n"
          ],
          "name": "stdout"
        },
        {
          "output_type": "execute_result",
          "data": {
            "text/plain": [
              "<keras.callbacks.History at 0x7fec3a51eba8>"
            ]
          },
          "metadata": {
            "tags": []
          },
          "execution_count": 16
        }
      ]
    },
    {
      "cell_type": "code",
      "metadata": {
        "id": "AtsH-lLk-eLb",
        "colab_type": "code",
        "colab": {}
      },
      "source": [
        "score = model.evaluate(X_test, Y_test, verbose=0)"
      ],
      "execution_count": 0,
      "outputs": []
    },
    {
      "cell_type": "code",
      "metadata": {
        "id": "mkX8JMv79q9r",
        "colab_type": "code",
        "outputId": "91531734-6e07-4280-9f41-73d4194c6f58",
        "colab": {
          "base_uri": "https://localhost:8080/",
          "height": 34
        }
      },
      "source": [
        "print(score)"
      ],
      "execution_count": 0,
      "outputs": [
        {
          "output_type": "stream",
          "text": [
            "[0.05064295390050806, 0.9884]\n"
          ],
          "name": "stdout"
        }
      ]
    },
    {
      "cell_type": "code",
      "metadata": {
        "id": "OCWoJkwE9suh",
        "colab_type": "code",
        "colab": {}
      },
      "source": [
        "y_pred = model.predict(X_test)"
      ],
      "execution_count": 0,
      "outputs": []
    },
    {
      "cell_type": "code",
      "metadata": {
        "id": "Ym7iCFBm9uBs",
        "colab_type": "code",
        "outputId": "8c3f18cc-bb8a-4a3a-e12d-953c3afff843",
        "colab": {
          "base_uri": "https://localhost:8080/",
          "height": 336
        }
      },
      "source": [
        "print(y_pred[:9])\n",
        "print(y_test[:9])"
      ],
      "execution_count": 0,
      "outputs": [
        {
          "output_type": "stream",
          "text": [
            "[[2.0483735e-20 1.1686657e-19 1.2727695e-12 4.6403179e-14 2.2863355e-22\n",
            "  5.3396763e-19 1.7322162e-35 1.0000000e+00 7.3862430e-21 6.1661647e-14]\n",
            " [1.8873293e-14 1.5236914e-13 1.0000000e+00 8.6184423e-14 1.9312890e-23\n",
            "  7.8803235e-23 4.4065137e-11 2.2826417e-21 1.2424323e-16 4.4918900e-30]\n",
            " [6.4861392e-14 9.9999988e-01 4.2155128e-09 1.0119672e-11 2.1063903e-08\n",
            "  4.4008903e-09 7.7297408e-13 7.5192411e-08 4.4212607e-12 2.6242298e-13]\n",
            " [1.0000000e+00 2.4032614e-16 9.0543655e-15 7.1776434e-13 5.0101974e-18\n",
            "  3.8149128e-13 1.1137253e-10 7.7825652e-18 3.8654111e-11 3.1882661e-15]\n",
            " [7.3168221e-17 2.2191014e-18 1.8166692e-21 8.1606970e-25 1.0000000e+00\n",
            "  1.8617447e-21 4.5104616e-18 2.7775283e-21 1.8947991e-18 2.7780150e-14]\n",
            " [1.1290383e-12 1.0000000e+00 1.1299065e-08 4.8059001e-13 3.2021237e-08\n",
            "  1.5365935e-10 8.4122249e-12 1.5697614e-08 2.2036791e-12 4.3147400e-13]\n",
            " [2.1914328e-26 3.0846162e-14 4.0390335e-19 5.0927582e-29 1.0000000e+00\n",
            "  2.3320146e-16 1.5397194e-27 6.8898839e-14 1.6231206e-18 1.6323314e-15]\n",
            " [6.7921584e-20 1.0011974e-17 2.8527554e-17 1.8792710e-19 7.4622633e-08\n",
            "  1.1295791e-15 2.6897177e-24 8.9886768e-13 1.1766944e-13 9.9999988e-01]\n",
            " [4.9339267e-16 2.0923089e-21 3.1707103e-14 1.9451734e-12 3.0946521e-13\n",
            "  8.3657861e-01 1.6342130e-01 2.0662269e-16 6.8935691e-08 2.9691116e-10]]\n",
            "[7 2 1 0 4 1 4 9 5]\n"
          ],
          "name": "stdout"
        }
      ]
    },
    {
      "cell_type": "code",
      "metadata": {
        "id": "CT--y98_dr2T",
        "colab_type": "code",
        "colab": {}
      },
      "source": [
        "layer_dict = dict([(layer.name, layer) for layer in model.layers])"
      ],
      "execution_count": 0,
      "outputs": []
    },
    {
      "cell_type": "code",
      "metadata": {
        "id": "g3tMKroqzz0-",
        "colab_type": "code",
        "outputId": "f0cbd5d2-1e88-40b1-df41-e009e6e5d71a",
        "colab": {
          "base_uri": "https://localhost:8080/",
          "height": 202
        }
      },
      "source": [
        "layer_dict"
      ],
      "execution_count": 0,
      "outputs": [
        {
          "output_type": "execute_result",
          "data": {
            "text/plain": [
              "{'activation_2': <keras.layers.core.Activation at 0x7fec3a420d30>,\n",
              " 'conv2d_10': <keras.layers.convolutional.Conv2D at 0x7fec3a4cc8d0>,\n",
              " 'conv2d_11': <keras.layers.convolutional.Conv2D at 0x7fec3a476898>,\n",
              " 'conv2d_12': <keras.layers.convolutional.Conv2D at 0x7fec3a476a58>,\n",
              " 'conv2d_13': <keras.layers.convolutional.Conv2D at 0x7fec3a48b128>,\n",
              " 'conv2d_14': <keras.layers.convolutional.Conv2D at 0x7fec3a48bc50>,\n",
              " 'conv2d_15': <keras.layers.convolutional.Conv2D at 0x7fec3a43f2b0>,\n",
              " 'conv2d_8': <keras.layers.convolutional.Conv2D at 0x7fec3a4cc588>,\n",
              " 'conv2d_9': <keras.layers.convolutional.Conv2D at 0x7fec3a4cc550>,\n",
              " 'flatten_2': <keras.layers.core.Flatten at 0x7fec3a44ed30>,\n",
              " 'max_pooling2d_2': <keras.layers.pooling.MaxPooling2D at 0x7fec3a4cc908>}"
            ]
          },
          "metadata": {
            "tags": []
          },
          "execution_count": 22
        }
      ]
    },
    {
      "cell_type": "code",
      "metadata": {
        "id": "2GY4Upv4dsUR",
        "colab_type": "code",
        "outputId": "8a2f3389-af18-4d8a-d977-7a38b1fad237",
        "colab": {
          "base_uri": "https://localhost:8080/",
          "height": 837
        }
      },
      "source": [
        "import numpy as np\n",
        "from matplotlib import pyplot as plt\n",
        "from keras import backend as K\n",
        "%matplotlib inline\n",
        "# util function to convert a tensor into a valid image\n",
        "def deprocess_image(x):\n",
        "    # normalize tensor: center on 0., ensure std is 0.1\n",
        "    x -= x.mean()\n",
        "    x /= (x.std() + 1e-5)\n",
        "    x *= 0.1\n",
        "\n",
        "    # clip to [0, 1]\n",
        "    x += 0.5\n",
        "    x = np.clip(x, 0, 1)\n",
        "\n",
        "    # convert to RGB array\n",
        "    x *= 255\n",
        "    #x = x.transpose((1, 2, 0))\n",
        "    x = np.clip(x, 0, 255).astype('uint8')\n",
        "    return x\n",
        "\n",
        "def vis_img_in_filter(img = np.array(X_train[2]).reshape((1, 28, 28, 1)).astype(np.float64), \n",
        "                      layer_name = 'conv2d_11'):\n",
        "    layer_output = layer_dict[layer_name].output\n",
        "    img_ascs = list()\n",
        "    for filter_index in range(layer_output.shape[3]):\n",
        "        # build a loss function that maximizes the activation\n",
        "        # of the nth filter of the layer considered\n",
        "        loss = K.mean(layer_output[:, :, :, filter_index])\n",
        "\n",
        "        # compute the gradient of the input picture wrt this loss\n",
        "        grads = K.gradients(loss, model.input)[0]\n",
        "\n",
        "        # normalization trick: we normalize the gradient\n",
        "        grads /= (K.sqrt(K.mean(K.square(grads))) + 1e-5)\n",
        "\n",
        "        # this function returns the loss and grads given the input picture\n",
        "        iterate = K.function([model.input], [loss, grads])\n",
        "\n",
        "        # step size for gradient ascent\n",
        "        step = 5.\n",
        "\n",
        "        img_asc = np.array(img)\n",
        "        # run gradient ascent for 20 steps\n",
        "        for i in range(20):\n",
        "            loss_value, grads_value = iterate([img_asc])\n",
        "            img_asc += grads_value * step\n",
        "\n",
        "        img_asc = img_asc[0]\n",
        "        img_ascs.append(deprocess_image(img_asc).reshape((28, 28)))\n",
        "        \n",
        "    if layer_output.shape[3] >= 35:\n",
        "        plot_x, plot_y = 6, 6\n",
        "    elif layer_output.shape[3] >= 23:\n",
        "        plot_x, plot_y = 4, 6\n",
        "    elif layer_output.shape[3] >= 11:\n",
        "        plot_x, plot_y = 2, 6\n",
        "    else:\n",
        "        plot_x, plot_y = 1, 2\n",
        "    fig, ax = plt.subplots(plot_x, plot_y, figsize = (12, 12))\n",
        "    ax[0, 0].imshow(img.reshape((28, 28)), cmap = 'gray')\n",
        "    ax[0, 0].set_title('Input image')\n",
        "    fig.suptitle('Input image and %s filters' % (layer_name,))\n",
        "    fig.tight_layout(pad = 0.3, rect = [0, 0, 0.9, 0.9])\n",
        "    for (x, y) in [(i, j) for i in range(plot_x) for j in range(plot_y)]:\n",
        "        if x == 0 and y == 0:\n",
        "            continue\n",
        "        ax[x, y].imshow(img_ascs[x * plot_y + y - 1], cmap = 'gray')\n",
        "        ax[x, y].set_title('filter %d' % (x * plot_y + y - 1))\n",
        "\n",
        "vis_img_in_filter()"
      ],
      "execution_count": 0,
      "outputs": [
        {
          "output_type": "display_data",
          "data": {
            "image/png": "[encoded data removed]",
            "text/plain": [
              "<Figure size 864x864 with 24 Axes>"
            ]
          },
          "metadata": {
            "tags": []
          }
        }
      ]
    },
    {
      "cell_type": "code",
      "metadata": {
        "id": "i45aQui51CTs",
        "colab_type": "code",
        "colab": {}
      },
      "source": [
        ""
      ],
      "execution_count": 0,
      "outputs": []
    },
    {
      "cell_type": "code",
      "metadata": {
        "id": "9tvptcn8dxvp",
        "colab_type": "code",
        "colab": {}
      },
      "source": [
        ""
      ],
      "execution_count": 0,
      "outputs": []
    }
  ]
}
