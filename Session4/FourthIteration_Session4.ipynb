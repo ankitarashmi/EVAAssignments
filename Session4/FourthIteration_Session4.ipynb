{
  "nbformat": 4,
  "nbformat_minor": 0,
  "metadata": {
    "colab": {
      "name": "FourthIteration_Seesion4",
      "version": "0.3.2",
      "provenance": [],
      "collapsed_sections": [],
      "include_colab_link": true
    },
    "kernelspec": {
      "name": "python3",
      "display_name": "Python 3"
    },
    "accelerator": "GPU"
  },
  "cells": [
    {
      "cell_type": "markdown",
      "metadata": {
        "id": "view-in-github",
        "colab_type": "text"
      },
      "source": [
        "<a href=\"https://colab.research.google.com/github/ankitarashmi/EVAAssignments/blob/master/FourthIteration_Seesion4.ipynb\" target=\"_parent\"><img src=\"https://colab.research.google.com/assets/colab-badge.svg\" alt=\"Open In Colab\"/></a>"
      ]
    },
    {
      "cell_type": "markdown",
      "metadata": {
        "id": "aNyZv-Ec52ot",
        "colab_type": "text"
      },
      "source": [
        "# **Import Libraries and modules**"
      ]
    },
    {
      "cell_type": "code",
      "metadata": {
        "id": "3m3w1Cw49Zkt",
        "colab_type": "code",
        "outputId": "7a262655-0ade-41a2-e0a7-e3b627579cc6",
        "colab": {
          "base_uri": "https://localhost:8080/",
          "height": 34
        }
      },
      "source": [
        "# https://keras.io/\n",
        "!pip install -q keras\n",
        "import keras"
      ],
      "execution_count": 0,
      "outputs": [
        {
          "output_type": "stream",
          "text": [
            "Using TensorFlow backend.\n"
          ],
          "name": "stderr"
        }
      ]
    },
    {
      "cell_type": "code",
      "metadata": {
        "id": "Eso6UHE080D4",
        "colab_type": "code",
        "colab": {}
      },
      "source": [
        "import numpy as np\n",
        "\n",
        "from keras.models import Sequential\n",
        "from keras.layers import Dense, Dropout, Activation, Flatten, Add, BatchNormalization\n",
        "from keras.layers import Convolution2D, MaxPooling2D\n",
        "from keras.utils import np_utils\n",
        "\n",
        "from keras.datasets import mnist"
      ],
      "execution_count": 0,
      "outputs": []
    },
    {
      "cell_type": "markdown",
      "metadata": {
        "id": "zByEi95J86RD",
        "colab_type": "text"
      },
      "source": [
        "### Load pre-shuffled MNIST data into train and test sets"
      ]
    },
    {
      "cell_type": "code",
      "metadata": {
        "id": "7eRM0QWN83PV",
        "colab_type": "code",
        "colab": {}
      },
      "source": [
        "(X_train, y_train), (X_test, y_test) = mnist.load_data()"
      ],
      "execution_count": 0,
      "outputs": []
    },
    {
      "cell_type": "code",
      "metadata": {
        "id": "4a4Be72j8-ZC",
        "colab_type": "code",
        "outputId": "876fbe22-90d9-473a-c08e-284b4bb4c5c7",
        "colab": {
          "base_uri": "https://localhost:8080/",
          "height": 302
        }
      },
      "source": [
        "print (X_train.shape)\n",
        "from matplotlib import pyplot as plt\n",
        "%matplotlib inline\n",
        "plt.imshow(X_train[0])"
      ],
      "execution_count": 0,
      "outputs": [
        {
          "output_type": "stream",
          "text": [
            "(60000, 28, 28)\n"
          ],
          "name": "stdout"
        },
        {
          "output_type": "execute_result",
          "data": {
            "text/plain": [
              "<matplotlib.image.AxesImage at 0x7f6b21900048>"
            ]
          },
          "metadata": {
            "tags": []
          },
          "execution_count": 4
        },
        {
          "output_type": "display_data",
          "data": {
            "image/png": "[encoded data removed]",
            "text/plain": [
              "<Figure size 432x288 with 1 Axes>"
            ]
          },
          "metadata": {
            "tags": []
          }
        }
      ]
    },
    {
      "cell_type": "code",
      "metadata": {
        "id": "dkmprriw9AnZ",
        "colab_type": "code",
        "colab": {}
      },
      "source": [
        "X_train = X_train.reshape(X_train.shape[0], 28, 28,1)\n",
        "X_test = X_test.reshape(X_test.shape[0], 28, 28,1)"
      ],
      "execution_count": 0,
      "outputs": []
    },
    {
      "cell_type": "markdown",
      "metadata": {
        "id": "zXwgeYC0xcU0",
        "colab_type": "text"
      },
      "source": [
        "#Normalization of Pixels\n"
      ]
    },
    {
      "cell_type": "code",
      "metadata": {
        "id": "X2m4YS4E9CRh",
        "colab_type": "code",
        "colab": {}
      },
      "source": [
        "X_train = X_train.astype('float32')\n",
        "X_test = X_test.astype('float32')\n",
        "X_train /= 255\n",
        "X_test /= 255"
      ],
      "execution_count": 0,
      "outputs": []
    },
    {
      "cell_type": "code",
      "metadata": {
        "id": "0Mn0vAYD9DvB",
        "colab_type": "code",
        "outputId": "3fa75d90-081d-4ad9-aff8-6521f92971b4",
        "colab": {
          "base_uri": "https://localhost:8080/",
          "height": 34
        }
      },
      "source": [
        "y_train[:10]"
      ],
      "execution_count": 0,
      "outputs": [
        {
          "output_type": "execute_result",
          "data": {
            "text/plain": [
              "array([5, 0, 4, 1, 9, 2, 1, 3, 1, 4], dtype=uint8)"
            ]
          },
          "metadata": {
            "tags": []
          },
          "execution_count": 7
        }
      ]
    },
    {
      "cell_type": "code",
      "metadata": {
        "id": "ZG8JiXR39FHC",
        "colab_type": "code",
        "colab": {}
      },
      "source": [
        "# Convert 1-dimensional class arrays to 10-dimensional class matrices\n",
        "Y_train = np_utils.to_categorical(y_train, 10)\n",
        "Y_test = np_utils.to_categorical(y_test, 10)"
      ],
      "execution_count": 0,
      "outputs": []
    },
    {
      "cell_type": "code",
      "metadata": {
        "id": "fYlFRvKS9HMB",
        "colab_type": "code",
        "outputId": "ab01d78c-a84e-48ad-ab7e-9cd9fef8e903",
        "colab": {
          "base_uri": "https://localhost:8080/",
          "height": 185
        }
      },
      "source": [
        "Y_train[:10]\n"
      ],
      "execution_count": 0,
      "outputs": [
        {
          "output_type": "execute_result",
          "data": {
            "text/plain": [
              "array([[0., 0., 0., 0., 0., 1., 0., 0., 0., 0.],\n",
              "       [1., 0., 0., 0., 0., 0., 0., 0., 0., 0.],\n",
              "       [0., 0., 0., 0., 1., 0., 0., 0., 0., 0.],\n",
              "       [0., 1., 0., 0., 0., 0., 0., 0., 0., 0.],\n",
              "       [0., 0., 0., 0., 0., 0., 0., 0., 0., 1.],\n",
              "       [0., 0., 1., 0., 0., 0., 0., 0., 0., 0.],\n",
              "       [0., 1., 0., 0., 0., 0., 0., 0., 0., 0.],\n",
              "       [0., 0., 0., 1., 0., 0., 0., 0., 0., 0.],\n",
              "       [0., 1., 0., 0., 0., 0., 0., 0., 0., 0.],\n",
              "       [0., 0., 0., 0., 1., 0., 0., 0., 0., 0.]], dtype=float32)"
            ]
          },
          "metadata": {
            "tags": []
          },
          "execution_count": 9
        }
      ]
    },
    {
      "cell_type": "markdown",
      "metadata": {
        "id": "zNFGL0eXxos6",
        "colab_type": "text"
      },
      "source": [
        "#Adding DropOut and Learning rate for this model \n",
        "Changes made:\n",
        "\n",
        "1.Added drop outs with 0.25 value.\n",
        "\n",
        "2.Learning rate of 0.003\n",
        "\n",
        "3.Changing the Batch size to 512."
      ]
    },
    {
      "cell_type": "code",
      "metadata": {
        "id": "osKqT73Q9JJB",
        "colab_type": "code",
        "outputId": "e5f21c74-0a51-457c-d4de-08092a92007e",
        "colab": {
          "base_uri": "https://localhost:8080/",
          "height": 1078
        }
      },
      "source": [
        "from keras.layers import Activation\n",
        "model = Sequential()\n",
        "\n",
        "model.add(Convolution2D(12, 3, 3, activation='relu', input_shape=(28,28,1))) #(26,26,12) RF:3X3\n",
        "model.add(BatchNormalization())\n",
        "model.add(Convolution2D(14, 3, 3, activation='relu')) #(24,24,14) RF:5X5\n",
        "model.add(BatchNormalization())\n",
        "model.add(Convolution2D(16, 3, 3, activation='relu')) #(22,22,16) RF:7X7\n",
        "model.add(BatchNormalization())\n",
        "model.add(Dropout(0.25))\n",
        "\n",
        "model.add(MaxPooling2D())\n",
        "model.add(Convolution2D(12, 1, activation='relu'))  #(11,11,12) RF :7X7\n",
        "model.add(BatchNormalization())\n",
        "\n",
        "model.add(Convolution2D(14, 3,3, activation='relu')) #(9,9,14) RF:9X9\n",
        "model.add(BatchNormalization())\n",
        "model.add(Convolution2D(16, 3, 3, activation='relu'))#(7,7,16) RF:13X13\n",
        "model.add(BatchNormalization())\n",
        "model.add(Dropout(0.25))\n",
        "\n",
        "model.add(Convolution2D(10, 1, activation='relu'))\n",
        "model.add(BatchNormalization())\n",
        "\n",
        "model.add(Convolution2D(10,7))\n",
        "model.add(Flatten())\n",
        "model.add(Activation('softmax'))\n",
        "model.summary()"
      ],
      "execution_count": 0,
      "outputs": [
        {
          "output_type": "stream",
          "text": [
            "WARNING:tensorflow:From /usr/local/lib/python3.6/dist-packages/tensorflow/python/framework/op_def_library.py:263: colocate_with (from tensorflow.python.framework.ops) is deprecated and will be removed in a future version.\n",
            "Instructions for updating:\n",
            "Colocations handled automatically by placer.\n"
          ],
          "name": "stdout"
        },
        {
          "output_type": "stream",
          "text": [
            "/usr/local/lib/python3.6/dist-packages/ipykernel_launcher.py:4: UserWarning: Update your `Conv2D` call to the Keras 2 API: `Conv2D(12, (3, 3), activation=\"relu\", input_shape=(28, 28, 1...)`\n",
            "  after removing the cwd from sys.path.\n"
          ],
          "name": "stderr"
        },
        {
          "output_type": "stream",
          "text": [
            "WARNING:tensorflow:From /usr/local/lib/python3.6/dist-packages/keras/backend/tensorflow_backend.py:3445: calling dropout (from tensorflow.python.ops.nn_ops) with keep_prob is deprecated and will be removed in a future version.\n",
            "Instructions for updating:\n",
            "Please use `rate` instead of `keep_prob`. Rate should be set to `rate = 1 - keep_prob`.\n"
          ],
          "name": "stdout"
        },
        {
          "output_type": "stream",
          "text": [
            "/usr/local/lib/python3.6/dist-packages/ipykernel_launcher.py:6: UserWarning: Update your `Conv2D` call to the Keras 2 API: `Conv2D(14, (3, 3), activation=\"relu\")`\n",
            "  \n",
            "/usr/local/lib/python3.6/dist-packages/ipykernel_launcher.py:8: UserWarning: Update your `Conv2D` call to the Keras 2 API: `Conv2D(16, (3, 3), activation=\"relu\")`\n",
            "  \n",
            "/usr/local/lib/python3.6/dist-packages/ipykernel_launcher.py:16: UserWarning: Update your `Conv2D` call to the Keras 2 API: `Conv2D(14, (3, 3), activation=\"relu\")`\n",
            "  app.launch_new_instance()\n",
            "/usr/local/lib/python3.6/dist-packages/ipykernel_launcher.py:18: UserWarning: Update your `Conv2D` call to the Keras 2 API: `Conv2D(16, (3, 3), activation=\"relu\")`\n"
          ],
          "name": "stderr"
        },
        {
          "output_type": "stream",
          "text": [
            "_________________________________________________________________\n",
            "Layer (type)                 Output Shape              Param #   \n",
            "=================================================================\n",
            "conv2d_1 (Conv2D)            (None, 26, 26, 12)        120       \n",
            "_________________________________________________________________\n",
            "batch_normalization_1 (Batch (None, 26, 26, 12)        48        \n",
            "_________________________________________________________________\n",
            "conv2d_2 (Conv2D)            (None, 24, 24, 14)        1526      \n",
            "_________________________________________________________________\n",
            "batch_normalization_2 (Batch (None, 24, 24, 14)        56        \n",
            "_________________________________________________________________\n",
            "conv2d_3 (Conv2D)            (None, 22, 22, 16)        2032      \n",
            "_________________________________________________________________\n",
            "batch_normalization_3 (Batch (None, 22, 22, 16)        64        \n",
            "_________________________________________________________________\n",
            "dropout_1 (Dropout)          (None, 22, 22, 16)        0         \n",
            "_________________________________________________________________\n",
            "max_pooling2d_1 (MaxPooling2 (None, 11, 11, 16)        0         \n",
            "_________________________________________________________________\n",
            "conv2d_4 (Conv2D)            (None, 11, 11, 12)        204       \n",
            "_________________________________________________________________\n",
            "batch_normalization_4 (Batch (None, 11, 11, 12)        48        \n",
            "_________________________________________________________________\n",
            "conv2d_5 (Conv2D)            (None, 9, 9, 14)          1526      \n",
            "_________________________________________________________________\n",
            "batch_normalization_5 (Batch (None, 9, 9, 14)          56        \n",
            "_________________________________________________________________\n",
            "conv2d_6 (Conv2D)            (None, 7, 7, 16)          2032      \n",
            "_________________________________________________________________\n",
            "batch_normalization_6 (Batch (None, 7, 7, 16)          64        \n",
            "_________________________________________________________________\n",
            "dropout_2 (Dropout)          (None, 7, 7, 16)          0         \n",
            "_________________________________________________________________\n",
            "conv2d_7 (Conv2D)            (None, 7, 7, 10)          170       \n",
            "_________________________________________________________________\n",
            "batch_normalization_7 (Batch (None, 7, 7, 10)          40        \n",
            "_________________________________________________________________\n",
            "conv2d_8 (Conv2D)            (None, 1, 1, 10)          4910      \n",
            "_________________________________________________________________\n",
            "flatten_1 (Flatten)          (None, 10)                0         \n",
            "_________________________________________________________________\n",
            "activation_1 (Activation)    (None, 10)                0         \n",
            "=================================================================\n",
            "Total params: 12,896\n",
            "Trainable params: 12,708\n",
            "Non-trainable params: 188\n",
            "_________________________________________________________________\n"
          ],
          "name": "stdout"
        }
      ]
    },
    {
      "cell_type": "code",
      "metadata": {
        "id": "Zp6SuGrL9M3h",
        "colab_type": "code",
        "colab": {}
      },
      "source": [
        "from keras.optimizers import Adam\n",
        "from keras.callbacks import LearningRateScheduler\n",
        "model.compile(loss='categorical_crossentropy',\n",
        "             optimizer=Adam(lr=0.003),\n",
        "             metrics=['accuracy'])"
      ],
      "execution_count": 0,
      "outputs": []
    },
    {
      "cell_type": "markdown",
      "metadata": {
        "id": "EmePIIA6y1_X",
        "colab_type": "text"
      },
      "source": [
        "#Accuracy of 99.42\n",
        "#Number of parameters: 12,896\n"
      ]
    },
    {
      "cell_type": "code",
      "metadata": {
        "id": "4xWoKhPY9Of5",
        "colab_type": "code",
        "outputId": "92941a7c-5411-41a5-90ea-722aa0105be0",
        "colab": {
          "base_uri": "https://localhost:8080/",
          "height": 1764
        }
      },
      "source": [
        "model.fit(X_train, Y_train, batch_size=512, nb_epoch=50,validation_data=(X_test,Y_test), verbose=1)"
      ],
      "execution_count": 0,
      "outputs": [
        {
          "output_type": "stream",
          "text": [
            "/usr/local/lib/python3.6/dist-packages/ipykernel_launcher.py:1: UserWarning: The `nb_epoch` argument in `fit` has been renamed `epochs`.\n",
            "  \"\"\"Entry point for launching an IPython kernel.\n"
          ],
          "name": "stderr"
        },
        {
          "output_type": "stream",
          "text": [
            "Train on 60000 samples, validate on 10000 samples\n",
            "Epoch 1/50\n",
            "60000/60000 [==============================] - 3s 52us/step - loss: 0.0019 - acc: 0.9995 - val_loss: 0.0445 - val_acc: 0.9925\n",
            "Epoch 2/50\n",
            "60000/60000 [==============================] - 3s 46us/step - loss: 0.0018 - acc: 0.9995 - val_loss: 0.0387 - val_acc: 0.9930\n",
            "Epoch 3/50\n",
            "60000/60000 [==============================] - 3s 46us/step - loss: 0.0012 - acc: 0.9996 - val_loss: 0.0408 - val_acc: 0.9933\n",
            "Epoch 4/50\n",
            "60000/60000 [==============================] - 3s 46us/step - loss: 0.0010 - acc: 0.9998 - val_loss: 0.0398 - val_acc: 0.9935\n",
            "Epoch 5/50\n",
            "60000/60000 [==============================] - 3s 46us/step - loss: 0.0011 - acc: 0.9997 - val_loss: 0.0424 - val_acc: 0.9930\n",
            "Epoch 6/50\n",
            "60000/60000 [==============================] - 3s 46us/step - loss: 0.0010 - acc: 0.9996 - val_loss: 0.0433 - val_acc: 0.9929\n",
            "Epoch 7/50\n",
            "60000/60000 [==============================] - 3s 46us/step - loss: 0.0011 - acc: 0.9996 - val_loss: 0.0423 - val_acc: 0.9931\n",
            "Epoch 8/50\n",
            "60000/60000 [==============================] - 3s 46us/step - loss: 0.0014 - acc: 0.9996 - val_loss: 0.0400 - val_acc: 0.9932\n",
            "Epoch 9/50\n",
            "60000/60000 [==============================] - 3s 46us/step - loss: 0.0010 - acc: 0.9996 - val_loss: 0.0405 - val_acc: 0.9934\n",
            "Epoch 10/50\n",
            "60000/60000 [==============================] - 3s 46us/step - loss: 0.0014 - acc: 0.9996 - val_loss: 0.0417 - val_acc: 0.9935\n",
            "Epoch 11/50\n",
            "60000/60000 [==============================] - 3s 47us/step - loss: 0.0012 - acc: 0.9997 - val_loss: 0.0452 - val_acc: 0.9931\n",
            "Epoch 12/50\n",
            "60000/60000 [==============================] - 3s 46us/step - loss: 0.0011 - acc: 0.9997 - val_loss: 0.0424 - val_acc: 0.9934\n",
            "Epoch 13/50\n",
            "60000/60000 [==============================] - 3s 47us/step - loss: 0.0012 - acc: 0.9996 - val_loss: 0.0453 - val_acc: 0.9927\n",
            "Epoch 14/50\n",
            "60000/60000 [==============================] - 3s 48us/step - loss: 0.0011 - acc: 0.9997 - val_loss: 0.0413 - val_acc: 0.9932\n",
            "Epoch 15/50\n",
            "60000/60000 [==============================] - 3s 48us/step - loss: 8.7920e-04 - acc: 0.9998 - val_loss: 0.0442 - val_acc: 0.9930\n",
            "Epoch 16/50\n",
            "60000/60000 [==============================] - 3s 48us/step - loss: 0.0011 - acc: 0.9998 - val_loss: 0.0411 - val_acc: 0.9935\n",
            "Epoch 17/50\n",
            "60000/60000 [==============================] - 3s 47us/step - loss: 0.0010 - acc: 0.9998 - val_loss: 0.0421 - val_acc: 0.9935\n",
            "Epoch 18/50\n",
            "60000/60000 [==============================] - 3s 46us/step - loss: 0.0011 - acc: 0.9996 - val_loss: 0.0400 - val_acc: 0.9936\n",
            "Epoch 19/50\n",
            "60000/60000 [==============================] - 3s 46us/step - loss: 0.0013 - acc: 0.9997 - val_loss: 0.0444 - val_acc: 0.9929\n",
            "Epoch 20/50\n",
            "60000/60000 [==============================] - 3s 46us/step - loss: 0.0012 - acc: 0.9996 - val_loss: 0.0418 - val_acc: 0.9933\n",
            "Epoch 21/50\n",
            "60000/60000 [==============================] - 3s 46us/step - loss: 0.0014 - acc: 0.9996 - val_loss: 0.0437 - val_acc: 0.9929\n",
            "Epoch 22/50\n",
            "60000/60000 [==============================] - 3s 46us/step - loss: 0.0011 - acc: 0.9997 - val_loss: 0.0388 - val_acc: 0.9942\n",
            "Epoch 23/50\n",
            "60000/60000 [==============================] - 3s 46us/step - loss: 0.0011 - acc: 0.9997 - val_loss: 0.0437 - val_acc: 0.9931\n",
            "Epoch 24/50\n",
            "60000/60000 [==============================] - 3s 46us/step - loss: 9.1294e-04 - acc: 0.9998 - val_loss: 0.0448 - val_acc: 0.9933\n",
            "Epoch 25/50\n",
            "60000/60000 [==============================] - 3s 46us/step - loss: 0.0015 - acc: 0.9996 - val_loss: 0.0418 - val_acc: 0.9931\n",
            "Epoch 26/50\n",
            "60000/60000 [==============================] - 3s 46us/step - loss: 0.0016 - acc: 0.9996 - val_loss: 0.0520 - val_acc: 0.9926\n",
            "Epoch 27/50\n",
            "60000/60000 [==============================] - 3s 47us/step - loss: 0.0014 - acc: 0.9996 - val_loss: 0.0484 - val_acc: 0.9926\n",
            "Epoch 28/50\n",
            "60000/60000 [==============================] - 3s 48us/step - loss: 0.0021 - acc: 0.9994 - val_loss: 0.0426 - val_acc: 0.9933\n",
            "Epoch 29/50\n",
            "60000/60000 [==============================] - 3s 47us/step - loss: 0.0021 - acc: 0.9994 - val_loss: 0.0409 - val_acc: 0.9941\n",
            "Epoch 30/50\n",
            "60000/60000 [==============================] - 3s 46us/step - loss: 0.0012 - acc: 0.9997 - val_loss: 0.0499 - val_acc: 0.9918\n",
            "Epoch 31/50\n",
            "60000/60000 [==============================] - 3s 46us/step - loss: 0.0014 - acc: 0.9996 - val_loss: 0.0445 - val_acc: 0.9932\n",
            "Epoch 32/50\n",
            "60000/60000 [==============================] - 3s 46us/step - loss: 0.0017 - acc: 0.9996 - val_loss: 0.0447 - val_acc: 0.9928\n",
            "Epoch 33/50\n",
            "60000/60000 [==============================] - 3s 46us/step - loss: 0.0021 - acc: 0.9992 - val_loss: 0.0472 - val_acc: 0.9930\n",
            "Epoch 34/50\n",
            "60000/60000 [==============================] - 3s 47us/step - loss: 0.0021 - acc: 0.9995 - val_loss: 0.0537 - val_acc: 0.9920\n",
            "Epoch 35/50\n",
            "60000/60000 [==============================] - 3s 48us/step - loss: 0.0014 - acc: 0.9996 - val_loss: 0.0538 - val_acc: 0.9916\n",
            "Epoch 36/50\n",
            "60000/60000 [==============================] - 3s 48us/step - loss: 0.0015 - acc: 0.9996 - val_loss: 0.0480 - val_acc: 0.9921\n",
            "Epoch 37/50\n",
            "60000/60000 [==============================] - 3s 48us/step - loss: 0.0014 - acc: 0.9996 - val_loss: 0.0399 - val_acc: 0.9938\n",
            "Epoch 38/50\n",
            "60000/60000 [==============================] - 3s 47us/step - loss: 0.0018 - acc: 0.9995 - val_loss: 0.0494 - val_acc: 0.9930\n",
            "Epoch 39/50\n",
            "60000/60000 [==============================] - 3s 46us/step - loss: 0.0016 - acc: 0.9995 - val_loss: 0.0504 - val_acc: 0.9932\n",
            "Epoch 40/50\n",
            "60000/60000 [==============================] - 3s 46us/step - loss: 0.0012 - acc: 0.9997 - val_loss: 0.0496 - val_acc: 0.9924\n",
            "Epoch 41/50\n",
            "60000/60000 [==============================] - 3s 46us/step - loss: 0.0016 - acc: 0.9996 - val_loss: 0.0477 - val_acc: 0.9929\n",
            "Epoch 42/50\n",
            "60000/60000 [==============================] - 3s 47us/step - loss: 0.0013 - acc: 0.9997 - val_loss: 0.0461 - val_acc: 0.9939\n",
            "Epoch 43/50\n",
            "60000/60000 [==============================] - 3s 47us/step - loss: 0.0017 - acc: 0.9994 - val_loss: 0.0503 - val_acc: 0.9919\n",
            "Epoch 44/50\n",
            "60000/60000 [==============================] - 3s 47us/step - loss: 0.0014 - acc: 0.9995 - val_loss: 0.0431 - val_acc: 0.9935\n",
            "Epoch 45/50\n",
            "60000/60000 [==============================] - 3s 48us/step - loss: 0.0012 - acc: 0.9996 - val_loss: 0.0461 - val_acc: 0.9935\n",
            "Epoch 46/50\n",
            "60000/60000 [==============================] - 3s 47us/step - loss: 0.0011 - acc: 0.9997 - val_loss: 0.0441 - val_acc: 0.9930\n",
            "Epoch 47/50\n",
            "60000/60000 [==============================] - 3s 46us/step - loss: 0.0016 - acc: 0.9996 - val_loss: 0.0468 - val_acc: 0.9928\n",
            "Epoch 48/50\n",
            "60000/60000 [==============================] - 3s 46us/step - loss: 0.0022 - acc: 0.9993 - val_loss: 0.0479 - val_acc: 0.9931\n",
            "Epoch 49/50\n",
            "60000/60000 [==============================] - 3s 46us/step - loss: 0.0012 - acc: 0.9996 - val_loss: 0.0488 - val_acc: 0.9932\n",
            "Epoch 50/50\n",
            "60000/60000 [==============================] - 3s 46us/step - loss: 0.0014 - acc: 0.9997 - val_loss: 0.0481 - val_acc: 0.9938\n"
          ],
          "name": "stdout"
        },
        {
          "output_type": "execute_result",
          "data": {
            "text/plain": [
              "<keras.callbacks.History at 0x7f6af03ca978>"
            ]
          },
          "metadata": {
            "tags": []
          },
          "execution_count": 20
        }
      ]
    },
    {
      "cell_type": "code",
      "metadata": {
        "id": "AtsH-lLk-eLb",
        "colab_type": "code",
        "colab": {}
      },
      "source": [
        "score = model.evaluate(X_test, Y_test, verbose=0)"
      ],
      "execution_count": 0,
      "outputs": []
    },
    {
      "cell_type": "code",
      "metadata": {
        "id": "mkX8JMv79q9r",
        "colab_type": "code",
        "outputId": "a898b67c-5ff7-4fe1-f745-be8512bf349c",
        "colab": {
          "base_uri": "https://localhost:8080/",
          "height": 34
        }
      },
      "source": [
        "print(score)"
      ],
      "execution_count": 0,
      "outputs": [
        {
          "output_type": "stream",
          "text": [
            "[0.04809795364980216, 0.9938]\n"
          ],
          "name": "stdout"
        }
      ]
    },
    {
      "cell_type": "code",
      "metadata": {
        "id": "OCWoJkwE9suh",
        "colab_type": "code",
        "colab": {}
      },
      "source": [
        "y_pred = model.predict(X_test)"
      ],
      "execution_count": 0,
      "outputs": []
    },
    {
      "cell_type": "code",
      "metadata": {
        "id": "Ym7iCFBm9uBs",
        "colab_type": "code",
        "outputId": "d006f05d-017e-4c94-d055-f47c2676414f",
        "colab": {
          "base_uri": "https://localhost:8080/",
          "height": 487
        }
      },
      "source": [
        "print(y_pred[:9])\n",
        "print(y_test[:9])"
      ],
      "execution_count": 0,
      "outputs": [
        {
          "output_type": "stream",
          "text": [
            "[[8.13339981e-35 1.06146399e-25 1.54273283e-23 1.88697815e-20\n",
            "  3.30226808e-32 1.72958765e-28 0.00000000e+00 1.00000000e+00\n",
            "  1.27903208e-33 1.39269449e-25]\n",
            " [7.79626727e-17 1.86904702e-12 1.00000000e+00 3.69900073e-24\n",
            "  3.98296332e-16 5.44692932e-32 1.59901821e-17 2.29361220e-22\n",
            "  1.02728857e-25 5.55711724e-24]\n",
            " [7.64906734e-23 1.00000000e+00 1.18068374e-19 3.77380889e-19\n",
            "  2.30429435e-14 2.61251388e-13 1.30398510e-18 6.93510597e-14\n",
            "  1.76173105e-20 3.24981556e-19]\n",
            " [1.00000000e+00 6.17217838e-25 4.58219607e-23 9.57159836e-23\n",
            "  3.36507108e-27 1.88556689e-21 5.14465857e-14 2.91168344e-26\n",
            "  7.41645018e-22 2.79735443e-17]\n",
            " [3.62062257e-26 2.43864632e-19 1.41342871e-25 3.27437726e-28\n",
            "  1.00000000e+00 5.27178930e-28 1.73240681e-21 7.75609644e-26\n",
            "  1.60461411e-26 1.12204820e-12]\n",
            " [6.42623202e-25 1.00000000e+00 3.34583184e-20 1.26679662e-24\n",
            "  4.25854814e-16 3.01629116e-20 7.72097532e-24 8.26948915e-13\n",
            "  4.85025921e-24 2.46731457e-21]\n",
            " [1.87031429e-37 1.64965987e-21 4.06423269e-31 4.00502298e-32\n",
            "  1.00000000e+00 2.14032755e-24 1.44095060e-30 1.29153720e-14\n",
            "  1.75147780e-21 3.29781194e-17]\n",
            " [1.33550863e-34 3.47674761e-23 9.74405222e-30 8.95842708e-26\n",
            "  1.50078496e-12 2.80385702e-27 2.98696268e-38 1.09638606e-20\n",
            "  1.41960165e-22 1.00000000e+00]\n",
            " [5.73929467e-14 7.74971008e-34 1.86735369e-25 1.87338734e-20\n",
            "  1.80812651e-26 9.99996543e-01 3.51091171e-06 8.46005929e-32\n",
            "  1.33864198e-10 3.68295021e-17]]\n",
            "[7 2 1 0 4 1 4 9 5]\n"
          ],
          "name": "stdout"
        }
      ]
    },
    {
      "cell_type": "code",
      "metadata": {
        "id": "CT--y98_dr2T",
        "colab_type": "code",
        "colab": {}
      },
      "source": [
        "layer_dict = dict([(layer.name, layer) for layer in model.layers])"
      ],
      "execution_count": 0,
      "outputs": []
    },
    {
      "cell_type": "code",
      "metadata": {
        "id": "g3tMKroqzz0-",
        "colab_type": "code",
        "outputId": "4c749780-eee5-48f8-f88f-953bba16e932",
        "colab": {
          "base_uri": "https://localhost:8080/",
          "height": 353
        }
      },
      "source": [
        "layer_dict"
      ],
      "execution_count": 0,
      "outputs": [
        {
          "output_type": "execute_result",
          "data": {
            "text/plain": [
              "{'activation_1': <keras.layers.core.Activation at 0x7f6b101b9630>,\n",
              " 'batch_normalization_1': <keras.layers.normalization.BatchNormalization at 0x7f6b7c1172e8>,\n",
              " 'batch_normalization_2': <keras.layers.normalization.BatchNormalization at 0x7f6b1f0791d0>,\n",
              " 'batch_normalization_3': <keras.layers.normalization.BatchNormalization at 0x7f6b1e854e48>,\n",
              " 'batch_normalization_4': <keras.layers.normalization.BatchNormalization at 0x7f6b1062ba58>,\n",
              " 'batch_normalization_5': <keras.layers.normalization.BatchNormalization at 0x7f6b1059f6d8>,\n",
              " 'batch_normalization_6': <keras.layers.normalization.BatchNormalization at 0x7f6b104c9940>,\n",
              " 'batch_normalization_7': <keras.layers.normalization.BatchNormalization at 0x7f6b10456e10>,\n",
              " 'conv2d_1': <keras.layers.convolutional.Conv2D at 0x7f6b6cc3b048>,\n",
              " 'conv2d_2': <keras.layers.convolutional.Conv2D at 0x7f6b1f0790f0>,\n",
              " 'conv2d_3': <keras.layers.convolutional.Conv2D at 0x7f6b1079b048>,\n",
              " 'conv2d_4': <keras.layers.convolutional.Conv2D at 0x7f6b105f8e80>,\n",
              " 'conv2d_5': <keras.layers.convolutional.Conv2D at 0x7f6b1059fba8>,\n",
              " 'conv2d_6': <keras.layers.convolutional.Conv2D at 0x7f6b1050b780>,\n",
              " 'conv2d_7': <keras.layers.convolutional.Conv2D at 0x7f6b103c2198>,\n",
              " 'conv2d_8': <keras.layers.convolutional.Conv2D at 0x7f6b10304eb8>,\n",
              " 'dropout_1': <keras.layers.core.Dropout at 0x7f6b1071a518>,\n",
              " 'dropout_2': <keras.layers.core.Dropout at 0x7f6b10406748>,\n",
              " 'flatten_1': <keras.layers.core.Flatten at 0x7f6b1020acc0>,\n",
              " 'max_pooling2d_1': <keras.layers.pooling.MaxPooling2D at 0x7f6b106fe940>}"
            ]
          },
          "metadata": {
            "tags": []
          },
          "execution_count": 26
        }
      ]
    },
    {
      "cell_type": "code",
      "metadata": {
        "id": "2GY4Upv4dsUR",
        "colab_type": "code",
        "outputId": "1b71b81c-14ec-4da5-d9a4-1f543ad6478f",
        "colab": {
          "base_uri": "https://localhost:8080/",
          "height": 741
        }
      },
      "source": [
        "import numpy as np\n",
        "from matplotlib import pyplot as plt\n",
        "from keras import backend as K\n",
        "%matplotlib inline\n",
        "# util function to convert a tensor into a valid image\n",
        "def deprocess_image(x):\n",
        "    # normalize tensor: center on 0., ensure std is 0.1\n",
        "    x -= x.mean()\n",
        "    x /= (x.std() + 1e-5)\n",
        "    x *= 0.1\n",
        "\n",
        "    # clip to [0, 1]\n",
        "    x += 0.5\n",
        "    x = np.clip(x, 0, 1)\n",
        "\n",
        "    # convert to RGB array\n",
        "    x *= 255\n",
        "    #x = x.transpose((1, 2, 0))\n",
        "    x = np.clip(x, 0, 255).astype('uint8')\n",
        "    return x\n",
        "\n",
        "def vis_img_in_filter(img = np.array(X_train[2]).reshape((1, 28, 28, 1)).astype(np.float64), \n",
        "                      layer_name = 'conv2d_2'):\n",
        "    layer_output = layer_dict[layer_name].output\n",
        "    img_ascs = list()\n",
        "    for filter_index in range(layer_output.shape[3]):\n",
        "        # build a loss function that maximizes the activation\n",
        "        # of the nth filter of the layer considered\n",
        "        loss = K.mean(layer_output[:, :, :, filter_index])\n",
        "\n",
        "        # compute the gradient of the input picture wrt this loss\n",
        "        grads = K.gradients(loss, model.input)[0]\n",
        "\n",
        "        # normalization trick: we normalize the gradient\n",
        "        grads /= (K.sqrt(K.mean(K.square(grads))) + 1e-5)\n",
        "\n",
        "        # this function returns the loss and grads given the input picture\n",
        "        iterate = K.function([model.input], [loss, grads])\n",
        "\n",
        "        # step size for gradient ascent\n",
        "        step = 5.\n",
        "\n",
        "        img_asc = np.array(img)\n",
        "        # run gradient ascent for 20 steps\n",
        "        for i in range(20):\n",
        "            loss_value, grads_value = iterate([img_asc])\n",
        "            img_asc += grads_value * step\n",
        "\n",
        "        img_asc = img_asc[0]\n",
        "        img_ascs.append(deprocess_image(img_asc).reshape((28, 28)))\n",
        "        \n",
        "    if layer_output.shape[3] >= 35:\n",
        "        plot_x, plot_y = 6, 6\n",
        "    elif layer_output.shape[3] >= 23:\n",
        "        plot_x, plot_y = 4, 6\n",
        "    elif layer_output.shape[3] >= 11:\n",
        "        plot_x, plot_y = 2, 6\n",
        "    else:\n",
        "        plot_x, plot_y = 1, 2\n",
        "    fig, ax = plt.subplots(plot_x, plot_y, figsize = (12, 12))\n",
        "    ax[0, 0].imshow(img.reshape((28, 28)), cmap = 'gray')\n",
        "    ax[0, 0].set_title('Input image')\n",
        "    fig.suptitle('Input image and %s filters' % (layer_name,))\n",
        "    fig.tight_layout(pad = 0.3, rect = [0, 0, 0.9, 0.9])\n",
        "    for (x, y) in [(i, j) for i in range(plot_x) for j in range(plot_y)]:\n",
        "        if x == 0 and y == 0:\n",
        "            continue\n",
        "        ax[x, y].imshow(img_ascs[x * plot_y + y - 1], cmap = 'gray')\n",
        "        ax[x, y].set_title('filter %d' % (x * plot_y + y - 1))\n",
        "\n",
        "vis_img_in_filter()"
      ],
      "execution_count": 0,
      "outputs": [
        {
          "output_type": "display_data",
          "data": {
            "image/png": "[encoded data removed]",
            "text/plain": [
              "<Figure size 864x864 with 12 Axes>"
            ]
          },
          "metadata": {
            "tags": []
          }
        }
      ]
    },
    {
      "cell_type": "code",
      "metadata": {
        "id": "i45aQui51CTs",
        "colab_type": "code",
        "colab": {}
      },
      "source": [
        ""
      ],
      "execution_count": 0,
      "outputs": []
    },
    {
      "cell_type": "code",
      "metadata": {
        "id": "9tvptcn8dxvp",
        "colab_type": "code",
        "colab": {}
      },
      "source": [
        ""
      ],
      "execution_count": 0,
      "outputs": []
    }
  ]
}
