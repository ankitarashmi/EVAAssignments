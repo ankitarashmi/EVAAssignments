{
  "nbformat": 4,
  "nbformat_minor": 0,
  "metadata": {
    "colab": {
      "name": "First_DNN_Session3.ipynb",
      "version": "0.3.2",
      "provenance": [],
      "collapsed_sections": [],
      "include_colab_link": true
    },
    "kernelspec": {
      "name": "python3",
      "display_name": "Python 3"
    },
    "accelerator": "GPU"
  },
  "cells": [
    {
      "cell_type": "markdown",
      "metadata": {
        "id": "view-in-github",
        "colab_type": "text"
      },
      "source": [
        "<a href=\"https://colab.research.google.com/github/ankitarashmi/Project1/blob/master/First_DNN_Session3.ipynb\" target=\"_parent\"><img src=\"https://colab.research.google.com/assets/colab-badge.svg\" alt=\"Open In Colab\"/></a>"
      ]
    },
    {
      "cell_type": "markdown",
      "metadata": {
        "id": "aNyZv-Ec52ot",
        "colab_type": "text"
      },
      "source": [
        "# **Import Libraries and modules**"
      ]
    },
    {
      "cell_type": "code",
      "metadata": {
        "id": "3m3w1Cw49Zkt",
        "colab_type": "code",
        "colab": {}
      },
      "source": [
        "# https://keras.io/\n",
        "!pip install -q keras\n",
        "import keras"
      ],
      "execution_count": 0,
      "outputs": []
    },
    {
      "cell_type": "code",
      "metadata": {
        "id": "Eso6UHE080D4",
        "colab_type": "code",
        "colab": {}
      },
      "source": [
        "import numpy as np\n",
        "\n",
        "from keras.models import Sequential\n",
        "from keras.layers import Dense, Dropout, Activation, Flatten, Add\n",
        "from keras.layers import Convolution2D, MaxPooling2D\n",
        "from keras.utils import np_utils\n",
        "\n",
        "from keras.datasets import mnist"
      ],
      "execution_count": 0,
      "outputs": []
    },
    {
      "cell_type": "markdown",
      "metadata": {
        "id": "zByEi95J86RD",
        "colab_type": "text"
      },
      "source": [
        "### Load pre-shuffled MNIST data into train and test sets"
      ]
    },
    {
      "cell_type": "code",
      "metadata": {
        "id": "7eRM0QWN83PV",
        "colab_type": "code",
        "colab": {}
      },
      "source": [
        "(X_train, y_train), (X_test, y_test) = mnist.load_data()"
      ],
      "execution_count": 0,
      "outputs": []
    },
    {
      "cell_type": "code",
      "metadata": {
        "id": "4a4Be72j8-ZC",
        "colab_type": "code",
        "outputId": "f930ad6b-5d7e-4e11-c056-43e94bf7064d",
        "colab": {
          "base_uri": "https://localhost:8080/",
          "height": 302
        }
      },
      "source": [
        "print (X_train.shape)\n",
        "from matplotlib import pyplot as plt\n",
        "%matplotlib inline\n",
        "plt.imshow(X_train[0])"
      ],
      "execution_count": 6,
      "outputs": [
        {
          "output_type": "stream",
          "text": [
            "(60000, 28, 28)\n"
          ],
          "name": "stdout"
        },
        {
          "output_type": "execute_result",
          "data": {
            "text/plain": [
              "<matplotlib.image.AxesImage at 0x7f408d023b38>"
            ]
          },
          "metadata": {
            "tags": []
          },
          "execution_count": 6
        },
        {
          "output_type": "display_data",
          "data": {
            "image/png": "[encoded data removed]",
            "text/plain": [
              "<Figure size 432x288 with 1 Axes>"
            ]
          },
          "metadata": {
            "tags": []
          }
        }
      ]
    },
    {
      "cell_type": "code",
      "metadata": {
        "id": "dkmprriw9AnZ",
        "colab_type": "code",
        "colab": {}
      },
      "source": [
        "X_train = X_train.reshape(X_train.shape[0], 28, 28,1)\n",
        "X_test = X_test.reshape(X_test.shape[0], 28, 28,1)"
      ],
      "execution_count": 0,
      "outputs": []
    },
    {
      "cell_type": "markdown",
      "metadata": {
        "id": "zXwgeYC0xcU0",
        "colab_type": "text"
      },
      "source": [
        "#Normalization of Pixels\n"
      ]
    },
    {
      "cell_type": "code",
      "metadata": {
        "id": "X2m4YS4E9CRh",
        "colab_type": "code",
        "colab": {}
      },
      "source": [
        "X_train = X_train.astype('float32')\n",
        "X_test = X_test.astype('float32')\n",
        "X_train /= 255\n",
        "X_test /= 255"
      ],
      "execution_count": 0,
      "outputs": []
    },
    {
      "cell_type": "code",
      "metadata": {
        "id": "0Mn0vAYD9DvB",
        "colab_type": "code",
        "outputId": "bc42bcc9-351d-4675-d573-062de0980523",
        "colab": {
          "base_uri": "https://localhost:8080/",
          "height": 34
        }
      },
      "source": [
        "y_train[:10]"
      ],
      "execution_count": 9,
      "outputs": [
        {
          "output_type": "execute_result",
          "data": {
            "text/plain": [
              "array([5, 0, 4, 1, 9, 2, 1, 3, 1, 4], dtype=uint8)"
            ]
          },
          "metadata": {
            "tags": []
          },
          "execution_count": 9
        }
      ]
    },
    {
      "cell_type": "code",
      "metadata": {
        "id": "ZG8JiXR39FHC",
        "colab_type": "code",
        "colab": {}
      },
      "source": [
        "# Convert 1-dimensional class arrays to 10-dimensional class matrices\n",
        "Y_train = np_utils.to_categorical(y_train, 10)\n",
        "Y_test = np_utils.to_categorical(y_test, 10)"
      ],
      "execution_count": 0,
      "outputs": []
    },
    {
      "cell_type": "code",
      "metadata": {
        "id": "fYlFRvKS9HMB",
        "colab_type": "code",
        "outputId": "f24d6d29-ff86-4979-8328-0c194bb79766",
        "colab": {
          "base_uri": "https://localhost:8080/",
          "height": 185
        }
      },
      "source": [
        "Y_train[:10]\n"
      ],
      "execution_count": 11,
      "outputs": [
        {
          "output_type": "execute_result",
          "data": {
            "text/plain": [
              "array([[0., 0., 0., 0., 0., 1., 0., 0., 0., 0.],\n",
              "       [1., 0., 0., 0., 0., 0., 0., 0., 0., 0.],\n",
              "       [0., 0., 0., 0., 1., 0., 0., 0., 0., 0.],\n",
              "       [0., 1., 0., 0., 0., 0., 0., 0., 0., 0.],\n",
              "       [0., 0., 0., 0., 0., 0., 0., 0., 0., 1.],\n",
              "       [0., 0., 1., 0., 0., 0., 0., 0., 0., 0.],\n",
              "       [0., 1., 0., 0., 0., 0., 0., 0., 0., 0.],\n",
              "       [0., 0., 0., 1., 0., 0., 0., 0., 0., 0.],\n",
              "       [0., 1., 0., 0., 0., 0., 0., 0., 0., 0.],\n",
              "       [0., 0., 0., 0., 1., 0., 0., 0., 0., 0.]], dtype=float32)"
            ]
          },
          "metadata": {
            "tags": []
          },
          "execution_count": 11
        }
      ]
    },
    {
      "cell_type": "markdown",
      "metadata": {
        "id": "zNFGL0eXxos6",
        "colab_type": "text"
      },
      "source": [
        "#Preparing the model\n",
        "-- Started with vanilla model.Achieved an accuracy of 99.2 for validation data with parameters 169,901\n",
        "\n",
        "--Used max pooling and 1X1 Convolution to reduce the parameters.Also removed the layer where the channel size was going upto 128 channels. Accuracy went upto 99.3 but not 99.4 with number of parameters upto 19k\n",
        "\n",
        "-- Used Dropout which improved the accuracy to 99.4 with parameters coming little more than 16k"
      ]
    },
    {
      "cell_type": "code",
      "metadata": {
        "id": "osKqT73Q9JJB",
        "colab_type": "code",
        "outputId": "bfde0f3e-c6df-410a-d582-da6c7385f5ce",
        "colab": {
          "base_uri": "https://localhost:8080/",
          "height": 776
        }
      },
      "source": [
        "from keras.layers import Activation\n",
        "model = Sequential()\n",
        "\n",
        "model.add(Convolution2D(16, 3, 3, activation='relu', input_shape=(28,28,1))) #(26,26,4) RF:3X3\n",
        "model.add(Convolution2D(32, 3, 3, activation='relu')) #(24,24,32) RF:5X5\n",
        "\n",
        "model.add(Dropout(0.25))\n",
        "model.add(MaxPooling2D())\n",
        "model.add(Convolution2D(16, 1, activation='relu'))  #(12,12,16) RF :7X7\n",
        "\n",
        "model.add(Convolution2D(32, 3, 3, activation='relu')) #(10,10,32) RF:9X9\n",
        "\n",
        "model.add(Dropout(0.25))\n",
        "model.add(MaxPooling2D())\n",
        "model.add(Convolution2D(16, 1, activation='relu')) #(5,5,16) RF:11X11\n",
        "\n",
        "model.add(Convolution2D(32, 3, 3, activation='relu'))#(3,3,16) RF:13X13\n",
        "\n",
        "model.add(Dropout(0.25))\n",
        "model.add(Convolution2D(10, 1, activation='relu'))\n",
        "\n",
        "\n",
        "model.add(Convolution2D(10,3))\n",
        "model.add(Flatten())\n",
        "model.add(Activation('softmax'))\n",
        "model.summary()"
      ],
      "execution_count": 17,
      "outputs": [
        {
          "output_type": "stream",
          "text": [
            "/usr/local/lib/python3.6/dist-packages/ipykernel_launcher.py:4: UserWarning: Update your `Conv2D` call to the Keras 2 API: `Conv2D(16, (3, 3), activation=\"relu\", input_shape=(28, 28, 1...)`\n",
            "  after removing the cwd from sys.path.\n",
            "/usr/local/lib/python3.6/dist-packages/ipykernel_launcher.py:5: UserWarning: Update your `Conv2D` call to the Keras 2 API: `Conv2D(32, (3, 3), activation=\"relu\")`\n",
            "  \"\"\"\n",
            "/usr/local/lib/python3.6/dist-packages/ipykernel_launcher.py:11: UserWarning: Update your `Conv2D` call to the Keras 2 API: `Conv2D(32, (3, 3), activation=\"relu\")`\n",
            "  # This is added back by InteractiveShellApp.init_path()\n",
            "/usr/local/lib/python3.6/dist-packages/ipykernel_launcher.py:17: UserWarning: Update your `Conv2D` call to the Keras 2 API: `Conv2D(32, (3, 3), activation=\"relu\")`\n"
          ],
          "name": "stderr"
        },
        {
          "output_type": "stream",
          "text": [
            "_________________________________________________________________\n",
            "Layer (type)                 Output Shape              Param #   \n",
            "=================================================================\n",
            "conv2d_17 (Conv2D)           (None, 26, 26, 16)        160       \n",
            "_________________________________________________________________\n",
            "conv2d_18 (Conv2D)           (None, 24, 24, 32)        4640      \n",
            "_________________________________________________________________\n",
            "dropout_7 (Dropout)          (None, 24, 24, 32)        0         \n",
            "_________________________________________________________________\n",
            "max_pooling2d_5 (MaxPooling2 (None, 12, 12, 32)        0         \n",
            "_________________________________________________________________\n",
            "conv2d_19 (Conv2D)           (None, 12, 12, 16)        528       \n",
            "_________________________________________________________________\n",
            "conv2d_20 (Conv2D)           (None, 10, 10, 32)        4640      \n",
            "_________________________________________________________________\n",
            "dropout_8 (Dropout)          (None, 10, 10, 32)        0         \n",
            "_________________________________________________________________\n",
            "max_pooling2d_6 (MaxPooling2 (None, 5, 5, 32)          0         \n",
            "_________________________________________________________________\n",
            "conv2d_21 (Conv2D)           (None, 5, 5, 16)          528       \n",
            "_________________________________________________________________\n",
            "conv2d_22 (Conv2D)           (None, 3, 3, 32)          4640      \n",
            "_________________________________________________________________\n",
            "dropout_9 (Dropout)          (None, 3, 3, 32)          0         \n",
            "_________________________________________________________________\n",
            "conv2d_23 (Conv2D)           (None, 3, 3, 10)          330       \n",
            "_________________________________________________________________\n",
            "conv2d_24 (Conv2D)           (None, 1, 1, 10)          910       \n",
            "_________________________________________________________________\n",
            "flatten_2 (Flatten)          (None, 10)                0         \n",
            "_________________________________________________________________\n",
            "activation_2 (Activation)    (None, 10)                0         \n",
            "=================================================================\n",
            "Total params: 16,376\n",
            "Trainable params: 16,376\n",
            "Non-trainable params: 0\n",
            "_________________________________________________________________\n"
          ],
          "name": "stdout"
        }
      ]
    },
    {
      "cell_type": "code",
      "metadata": {
        "id": "Zp6SuGrL9M3h",
        "colab_type": "code",
        "colab": {}
      },
      "source": [
        "model.compile(loss='categorical_crossentropy',\n",
        "             optimizer='adam',\n",
        "             metrics=['accuracy'])"
      ],
      "execution_count": 0,
      "outputs": []
    },
    {
      "cell_type": "markdown",
      "metadata": {
        "id": "EmePIIA6y1_X",
        "colab_type": "text"
      },
      "source": [
        "#Modifying the number of epochs to 100 to test the accuarcy and got an accuarcy of 99.4 at 32nd epoch."
      ]
    },
    {
      "cell_type": "code",
      "metadata": {
        "id": "4xWoKhPY9Of5",
        "colab_type": "code",
        "outputId": "fee058d1-9cdb-4492-8f31-fef811cf9130",
        "colab": {
          "base_uri": "https://localhost:8080/",
          "height": 3464
        }
      },
      "source": [
        "model.fit(X_train, Y_train, batch_size=32, nb_epoch=100,validation_data=(X_test,Y_test), verbose=1)"
      ],
      "execution_count": 20,
      "outputs": [
        {
          "output_type": "stream",
          "text": [
            "Train on 60000 samples, validate on 10000 samples\n",
            "Epoch 1/100\n",
            "  768/60000 [..............................] - ETA: 14s - loss: 0.0273 - acc: 0.9922"
          ],
          "name": "stdout"
        },
        {
          "output_type": "stream",
          "text": [
            "/usr/local/lib/python3.6/dist-packages/ipykernel_launcher.py:1: UserWarning: The `nb_epoch` argument in `fit` has been renamed `epochs`.\n",
            "  \"\"\"Entry point for launching an IPython kernel.\n"
          ],
          "name": "stderr"
        },
        {
          "output_type": "stream",
          "text": [
            "60000/60000 [==============================] - 12s 208us/step - loss: 0.0250 - acc: 0.9918 - val_loss: 0.0274 - val_acc: 0.9922\n",
            "Epoch 2/100\n",
            "60000/60000 [==============================] - 14s 229us/step - loss: 0.0220 - acc: 0.9924 - val_loss: 0.0256 - val_acc: 0.9922\n",
            "Epoch 3/100\n",
            "60000/60000 [==============================] - 12s 207us/step - loss: 0.0236 - acc: 0.9921 - val_loss: 0.0249 - val_acc: 0.9925\n",
            "Epoch 4/100\n",
            "60000/60000 [==============================] - 12s 206us/step - loss: 0.0254 - acc: 0.9918 - val_loss: 0.0265 - val_acc: 0.9915\n",
            "Epoch 5/100\n",
            "60000/60000 [==============================] - 12s 207us/step - loss: 0.0207 - acc: 0.9931 - val_loss: 0.0241 - val_acc: 0.9929\n",
            "Epoch 6/100\n",
            "60000/60000 [==============================] - 12s 208us/step - loss: 0.0227 - acc: 0.9925 - val_loss: 0.0350 - val_acc: 0.9901\n",
            "Epoch 7/100\n",
            "60000/60000 [==============================] - 13s 209us/step - loss: 0.0224 - acc: 0.9926 - val_loss: 0.0276 - val_acc: 0.9912\n",
            "Epoch 8/100\n",
            "60000/60000 [==============================] - 13s 218us/step - loss: 0.0213 - acc: 0.9929 - val_loss: 0.0307 - val_acc: 0.9915\n",
            "Epoch 9/100\n",
            "60000/60000 [==============================] - 13s 220us/step - loss: 0.0233 - acc: 0.9926 - val_loss: 0.0257 - val_acc: 0.9926\n",
            "Epoch 10/100\n",
            "60000/60000 [==============================] - 12s 207us/step - loss: 0.0221 - acc: 0.9927 - val_loss: 0.0292 - val_acc: 0.9915\n",
            "Epoch 11/100\n",
            "60000/60000 [==============================] - 12s 207us/step - loss: 0.0214 - acc: 0.9929 - val_loss: 0.0260 - val_acc: 0.9923\n",
            "Epoch 12/100\n",
            "60000/60000 [==============================] - 12s 207us/step - loss: 0.0211 - acc: 0.9929 - val_loss: 0.0240 - val_acc: 0.9923\n",
            "Epoch 13/100\n",
            "60000/60000 [==============================] - 14s 232us/step - loss: 0.0225 - acc: 0.9923 - val_loss: 0.0256 - val_acc: 0.9932\n",
            "Epoch 14/100\n",
            "60000/60000 [==============================] - 13s 217us/step - loss: 0.0218 - acc: 0.9930 - val_loss: 0.0255 - val_acc: 0.9919\n",
            "Epoch 15/100\n",
            "60000/60000 [==============================] - 14s 226us/step - loss: 0.0209 - acc: 0.9933 - val_loss: 0.0296 - val_acc: 0.9912\n",
            "Epoch 16/100\n",
            "60000/60000 [==============================] - 13s 220us/step - loss: 0.0208 - acc: 0.9933 - val_loss: 0.0335 - val_acc: 0.9894\n",
            "Epoch 17/100\n",
            "60000/60000 [==============================] - 13s 209us/step - loss: 0.0197 - acc: 0.9937 - val_loss: 0.0259 - val_acc: 0.9920\n",
            "Epoch 18/100\n",
            "60000/60000 [==============================] - 12s 208us/step - loss: 0.0187 - acc: 0.9935 - val_loss: 0.0239 - val_acc: 0.9930\n",
            "Epoch 19/100\n",
            "60000/60000 [==============================] - 12s 208us/step - loss: 0.0207 - acc: 0.9933 - val_loss: 0.0229 - val_acc: 0.9931\n",
            "Epoch 20/100\n",
            "60000/60000 [==============================] - 13s 209us/step - loss: 0.0205 - acc: 0.9931 - val_loss: 0.0282 - val_acc: 0.9914\n",
            "Epoch 21/100\n",
            "60000/60000 [==============================] - 14s 231us/step - loss: 0.0207 - acc: 0.9935 - val_loss: 0.0295 - val_acc: 0.9915\n",
            "Epoch 22/100\n",
            "60000/60000 [==============================] - 12s 208us/step - loss: 0.0205 - acc: 0.9932 - val_loss: 0.0230 - val_acc: 0.9934\n",
            "Epoch 23/100\n",
            "60000/60000 [==============================] - 12s 207us/step - loss: 0.0204 - acc: 0.9935 - val_loss: 0.0291 - val_acc: 0.9906\n",
            "Epoch 24/100\n",
            "60000/60000 [==============================] - 12s 207us/step - loss: 0.0200 - acc: 0.9935 - val_loss: 0.0242 - val_acc: 0.9922\n",
            "Epoch 25/100\n",
            "60000/60000 [==============================] - 12s 208us/step - loss: 0.0203 - acc: 0.9933 - val_loss: 0.0232 - val_acc: 0.9929\n",
            "Epoch 26/100\n",
            "60000/60000 [==============================] - 12s 207us/step - loss: 0.0195 - acc: 0.9940 - val_loss: 0.0335 - val_acc: 0.9905\n",
            "Epoch 27/100\n",
            "60000/60000 [==============================] - 13s 219us/step - loss: 0.0198 - acc: 0.9935 - val_loss: 0.0232 - val_acc: 0.9931\n",
            "Epoch 28/100\n",
            "60000/60000 [==============================] - 13s 215us/step - loss: 0.0194 - acc: 0.9934 - val_loss: 0.0246 - val_acc: 0.9925\n",
            "Epoch 29/100\n",
            "60000/60000 [==============================] - 12s 208us/step - loss: 0.0190 - acc: 0.9936 - val_loss: 0.0239 - val_acc: 0.9934\n",
            "Epoch 30/100\n",
            "60000/60000 [==============================] - 13s 209us/step - loss: 0.0211 - acc: 0.9931 - val_loss: 0.0249 - val_acc: 0.9919\n",
            "Epoch 31/100\n",
            "60000/60000 [==============================] - 12s 208us/step - loss: 0.0204 - acc: 0.9933 - val_loss: 0.0211 - val_acc: 0.9927\n",
            "Epoch 32/100\n",
            "60000/60000 [==============================] - 12s 207us/step - loss: 0.0196 - acc: 0.9934 - val_loss: 0.0215 - val_acc: 0.9940\n",
            "Epoch 33/100\n",
            "60000/60000 [==============================] - 13s 212us/step - loss: 0.0187 - acc: 0.9941 - val_loss: 0.0262 - val_acc: 0.9925\n",
            "Epoch 34/100\n",
            "60000/60000 [==============================] - 14s 226us/step - loss: 0.0192 - acc: 0.9935 - val_loss: 0.0283 - val_acc: 0.9925\n",
            "Epoch 35/100\n",
            "60000/60000 [==============================] - 13s 209us/step - loss: 0.0195 - acc: 0.9933 - val_loss: 0.0269 - val_acc: 0.9923\n",
            "Epoch 36/100\n",
            "60000/60000 [==============================] - 13s 209us/step - loss: 0.0178 - acc: 0.9943 - val_loss: 0.0278 - val_acc: 0.9915\n",
            "Epoch 37/100\n",
            "60000/60000 [==============================] - 13s 219us/step - loss: 0.0191 - acc: 0.9937 - val_loss: 0.0289 - val_acc: 0.9914\n",
            "Epoch 38/100\n",
            "60000/60000 [==============================] - 14s 226us/step - loss: 0.0196 - acc: 0.9937 - val_loss: 0.0247 - val_acc: 0.9924\n",
            "Epoch 39/100\n",
            "60000/60000 [==============================] - 12s 208us/step - loss: 0.0196 - acc: 0.9935 - val_loss: 0.0255 - val_acc: 0.9925\n",
            "Epoch 40/100\n",
            "60000/60000 [==============================] - 14s 237us/step - loss: 0.0167 - acc: 0.9947 - val_loss: 0.0254 - val_acc: 0.9926\n",
            "Epoch 41/100\n",
            "60000/60000 [==============================] - 12s 207us/step - loss: 0.0198 - acc: 0.9934 - val_loss: 0.0315 - val_acc: 0.9899\n",
            "Epoch 42/100\n",
            "60000/60000 [==============================] - 12s 208us/step - loss: 0.0198 - acc: 0.9934 - val_loss: 0.0261 - val_acc: 0.9918\n",
            "Epoch 43/100\n",
            "60000/60000 [==============================] - 12s 208us/step - loss: 0.0191 - acc: 0.9936 - val_loss: 0.0302 - val_acc: 0.9916\n",
            "Epoch 44/100\n",
            "60000/60000 [==============================] - 12s 208us/step - loss: 0.0182 - acc: 0.9944 - val_loss: 0.0266 - val_acc: 0.9918\n",
            "Epoch 45/100\n",
            "60000/60000 [==============================] - 12s 207us/step - loss: 0.0184 - acc: 0.9938 - val_loss: 0.0250 - val_acc: 0.9919\n",
            "Epoch 46/100\n",
            "60000/60000 [==============================] - 14s 226us/step - loss: 0.0193 - acc: 0.9936 - val_loss: 0.0277 - val_acc: 0.9912\n",
            "Epoch 47/100\n",
            "60000/60000 [==============================] - 13s 211us/step - loss: 0.0178 - acc: 0.9938 - val_loss: 0.0272 - val_acc: 0.9917\n",
            "Epoch 48/100\n",
            "60000/60000 [==============================] - 12s 207us/step - loss: 0.0189 - acc: 0.9941 - val_loss: 0.0245 - val_acc: 0.9932\n",
            "Epoch 49/100\n",
            "60000/60000 [==============================] - 12s 207us/step - loss: 0.0195 - acc: 0.9936 - val_loss: 0.0242 - val_acc: 0.9926\n",
            "Epoch 50/100\n",
            "60000/60000 [==============================] - 12s 208us/step - loss: 0.0172 - acc: 0.9944 - val_loss: 0.0266 - val_acc: 0.9923\n",
            "Epoch 51/100\n",
            "60000/60000 [==============================] - 13s 209us/step - loss: 0.0170 - acc: 0.9944 - val_loss: 0.0295 - val_acc: 0.9918\n",
            "Epoch 52/100\n",
            "60000/60000 [==============================] - 13s 217us/step - loss: 0.0187 - acc: 0.9940 - val_loss: 0.0265 - val_acc: 0.9919\n",
            "Epoch 53/100\n",
            "60000/60000 [==============================] - 13s 222us/step - loss: 0.0179 - acc: 0.9939 - val_loss: 0.0225 - val_acc: 0.9923\n",
            "Epoch 54/100\n",
            "60000/60000 [==============================] - 13s 209us/step - loss: 0.0173 - acc: 0.9943 - val_loss: 0.0254 - val_acc: 0.9929\n",
            "Epoch 55/100\n",
            "60000/60000 [==============================] - 12s 208us/step - loss: 0.0184 - acc: 0.9938 - val_loss: 0.0277 - val_acc: 0.9917\n",
            "Epoch 56/100\n",
            "60000/60000 [==============================] - 12s 208us/step - loss: 0.0186 - acc: 0.9938 - val_loss: 0.0273 - val_acc: 0.9927\n",
            "Epoch 57/100\n",
            "60000/60000 [==============================] - 13s 209us/step - loss: 0.0191 - acc: 0.9936 - val_loss: 0.0228 - val_acc: 0.9938\n",
            "Epoch 58/100\n",
            "60000/60000 [==============================] - 12s 208us/step - loss: 0.0179 - acc: 0.9940 - val_loss: 0.0327 - val_acc: 0.9902\n",
            "Epoch 59/100\n",
            "60000/60000 [==============================] - 14s 231us/step - loss: 0.0172 - acc: 0.9942 - val_loss: 0.0397 - val_acc: 0.9884\n",
            "Epoch 60/100\n",
            "60000/60000 [==============================] - 12s 208us/step - loss: 0.0172 - acc: 0.9943 - val_loss: 0.0269 - val_acc: 0.9922\n",
            "Epoch 61/100\n",
            "60000/60000 [==============================] - 12s 207us/step - loss: 0.0182 - acc: 0.9941 - val_loss: 0.0320 - val_acc: 0.9900\n",
            "Epoch 62/100\n",
            "60000/60000 [==============================] - 14s 238us/step - loss: 0.0183 - acc: 0.9941 - val_loss: 0.0259 - val_acc: 0.9920\n",
            "Epoch 63/100\n",
            "60000/60000 [==============================] - 13s 209us/step - loss: 0.0178 - acc: 0.9939 - val_loss: 0.0234 - val_acc: 0.9932\n",
            "Epoch 64/100\n",
            "60000/60000 [==============================] - 13s 222us/step - loss: 0.0172 - acc: 0.9944 - val_loss: 0.0235 - val_acc: 0.9929\n",
            "Epoch 65/100\n",
            "60000/60000 [==============================] - 14s 231us/step - loss: 0.0181 - acc: 0.9940 - val_loss: 0.0298 - val_acc: 0.9912\n",
            "Epoch 66/100\n",
            "60000/60000 [==============================] - 13s 209us/step - loss: 0.0167 - acc: 0.9943 - val_loss: 0.0315 - val_acc: 0.9905\n",
            "Epoch 67/100\n",
            "60000/60000 [==============================] - 12s 208us/step - loss: 0.0186 - acc: 0.9942 - val_loss: 0.0266 - val_acc: 0.9919\n",
            "Epoch 68/100\n",
            "60000/60000 [==============================] - 13s 209us/step - loss: 0.0172 - acc: 0.9943 - val_loss: 0.0375 - val_acc: 0.9897\n",
            "Epoch 69/100\n",
            "60000/60000 [==============================] - 13s 209us/step - loss: 0.0175 - acc: 0.9944 - val_loss: 0.0287 - val_acc: 0.9914\n",
            "Epoch 70/100\n",
            "60000/60000 [==============================] - 13s 209us/step - loss: 0.0178 - acc: 0.9941 - val_loss: 0.0255 - val_acc: 0.9930\n",
            "Epoch 71/100\n",
            "60000/60000 [==============================] - 13s 224us/step - loss: 0.0161 - acc: 0.9946 - val_loss: 0.0328 - val_acc: 0.9908\n",
            "Epoch 72/100\n",
            "60000/60000 [==============================] - 13s 215us/step - loss: 0.0161 - acc: 0.9945 - val_loss: 0.0294 - val_acc: 0.9919\n",
            "Epoch 73/100\n",
            "60000/60000 [==============================] - 13s 209us/step - loss: 0.0178 - acc: 0.9944 - val_loss: 0.0305 - val_acc: 0.9916\n",
            "Epoch 74/100\n",
            "60000/60000 [==============================] - 12s 208us/step - loss: 0.0180 - acc: 0.9942 - val_loss: 0.0299 - val_acc: 0.9915\n",
            "Epoch 75/100\n",
            "60000/60000 [==============================] - 13s 209us/step - loss: 0.0148 - acc: 0.9952 - val_loss: 0.0320 - val_acc: 0.9914\n",
            "Epoch 76/100\n",
            "60000/60000 [==============================] - 13s 209us/step - loss: 0.0181 - acc: 0.9940 - val_loss: 0.0284 - val_acc: 0.9916\n",
            "Epoch 77/100\n",
            "60000/60000 [==============================] - 13s 214us/step - loss: 0.0175 - acc: 0.9944 - val_loss: 0.0242 - val_acc: 0.9926\n",
            "Epoch 78/100\n",
            "60000/60000 [==============================] - 14s 226us/step - loss: 0.0177 - acc: 0.9941 - val_loss: 0.0303 - val_acc: 0.9914\n",
            "Epoch 79/100\n",
            "60000/60000 [==============================] - 13s 208us/step - loss: 0.0167 - acc: 0.9942 - val_loss: 0.0260 - val_acc: 0.9926\n",
            "Epoch 80/100\n",
            "60000/60000 [==============================] - 12s 208us/step - loss: 0.0157 - acc: 0.9947 - val_loss: 0.0310 - val_acc: 0.9916\n",
            "Epoch 81/100\n",
            "60000/60000 [==============================] - 13s 209us/step - loss: 0.0151 - acc: 0.9949 - val_loss: 0.0277 - val_acc: 0.9914\n",
            "Epoch 82/100\n",
            "60000/60000 [==============================] - 12s 208us/step - loss: 0.0170 - acc: 0.9944 - val_loss: 0.0348 - val_acc: 0.9896\n",
            "Epoch 83/100\n",
            "60000/60000 [==============================] - 13s 209us/step - loss: 0.0161 - acc: 0.9949 - val_loss: 0.0355 - val_acc: 0.9900\n",
            "Epoch 84/100\n",
            "60000/60000 [==============================] - 14s 230us/step - loss: 0.0161 - acc: 0.9947 - val_loss: 0.0308 - val_acc: 0.9915\n",
            "Epoch 85/100\n",
            "60000/60000 [==============================] - 12s 207us/step - loss: 0.0184 - acc: 0.9941 - val_loss: 0.0325 - val_acc: 0.9909\n",
            "Epoch 86/100\n",
            "60000/60000 [==============================] - 14s 238us/step - loss: 0.0160 - acc: 0.9946 - val_loss: 0.0259 - val_acc: 0.9927\n",
            "Epoch 87/100\n",
            "60000/60000 [==============================] - 12s 208us/step - loss: 0.0164 - acc: 0.9945 - val_loss: 0.0246 - val_acc: 0.9921\n",
            "Epoch 88/100\n",
            "60000/60000 [==============================] - 13s 221us/step - loss: 0.0175 - acc: 0.9942 - val_loss: 0.0275 - val_acc: 0.9930\n",
            "Epoch 89/100\n",
            "60000/60000 [==============================] - 12s 208us/step - loss: 0.0171 - acc: 0.9942 - val_loss: 0.0240 - val_acc: 0.9936\n",
            "Epoch 90/100\n",
            "60000/60000 [==============================] - 14s 229us/step - loss: 0.0164 - acc: 0.9948 - val_loss: 0.0241 - val_acc: 0.9932\n",
            "Epoch 91/100\n",
            "60000/60000 [==============================] - 12s 208us/step - loss: 0.0175 - acc: 0.9943 - val_loss: 0.0342 - val_acc: 0.9905\n",
            "Epoch 92/100\n",
            "60000/60000 [==============================] - 15s 250us/step - loss: 0.0164 - acc: 0.9945 - val_loss: 0.0337 - val_acc: 0.9916\n",
            "Epoch 93/100\n",
            "60000/60000 [==============================] - 21s 347us/step - loss: 0.0164 - acc: 0.9945 - val_loss: 0.0243 - val_acc: 0.9933\n",
            "Epoch 94/100\n",
            "60000/60000 [==============================] - 23s 375us/step - loss: 0.0152 - acc: 0.9946 - val_loss: 0.0247 - val_acc: 0.9929\n",
            "Epoch 95/100\n",
            "60000/60000 [==============================] - 24s 398us/step - loss: 0.0160 - acc: 0.9950 - val_loss: 0.0244 - val_acc: 0.9935\n",
            "Epoch 96/100\n",
            "60000/60000 [==============================] - 22s 374us/step - loss: 0.0174 - acc: 0.9945 - val_loss: 0.0284 - val_acc: 0.9928\n",
            "Epoch 97/100\n",
            "60000/60000 [==============================] - 23s 382us/step - loss: 0.0163 - acc: 0.9949 - val_loss: 0.0288 - val_acc: 0.9925\n",
            "Epoch 98/100\n",
            "60000/60000 [==============================] - 24s 398us/step - loss: 0.0156 - acc: 0.9947 - val_loss: 0.0328 - val_acc: 0.9908\n",
            "Epoch 99/100\n",
            "60000/60000 [==============================] - 23s 384us/step - loss: 0.0176 - acc: 0.9941 - val_loss: 0.0299 - val_acc: 0.9924\n",
            "Epoch 100/100\n",
            "60000/60000 [==============================] - 23s 378us/step - loss: 0.0163 - acc: 0.9947 - val_loss: 0.0288 - val_acc: 0.9919\n"
          ],
          "name": "stdout"
        },
        {
          "output_type": "execute_result",
          "data": {
            "text/plain": [
              "<keras.callbacks.History at 0x7f407070de10>"
            ]
          },
          "metadata": {
            "tags": []
          },
          "execution_count": 20
        }
      ]
    },
    {
      "cell_type": "code",
      "metadata": {
        "id": "AtsH-lLk-eLb",
        "colab_type": "code",
        "colab": {}
      },
      "source": [
        "score = model.evaluate(X_test, Y_test, verbose=0)"
      ],
      "execution_count": 0,
      "outputs": []
    },
    {
      "cell_type": "code",
      "metadata": {
        "id": "mkX8JMv79q9r",
        "colab_type": "code",
        "colab": {
          "base_uri": "https://localhost:8080/",
          "height": 34
        },
        "outputId": "5300011e-d193-4daf-d673-a01f01abb2ff"
      },
      "source": [
        "print(score)"
      ],
      "execution_count": 22,
      "outputs": [
        {
          "output_type": "stream",
          "text": [
            "[0.028766399505187293, 0.9919]\n"
          ],
          "name": "stdout"
        }
      ]
    },
    {
      "cell_type": "code",
      "metadata": {
        "id": "OCWoJkwE9suh",
        "colab_type": "code",
        "colab": {}
      },
      "source": [
        "y_pred = model.predict(X_test)"
      ],
      "execution_count": 0,
      "outputs": []
    },
    {
      "cell_type": "code",
      "metadata": {
        "id": "Ym7iCFBm9uBs",
        "colab_type": "code",
        "colab": {
          "base_uri": "https://localhost:8080/",
          "height": 487
        },
        "outputId": "effe34a8-fe76-4cfd-b2a7-c056b8347a44"
      },
      "source": [
        "print(y_pred[:9])\n",
        "print(y_test[:9])"
      ],
      "execution_count": 24,
      "outputs": [
        {
          "output_type": "stream",
          "text": [
            "[[1.70426245e-19 1.46642987e-09 3.20076493e-10 4.30390966e-12\n",
            "  3.69266466e-12 3.61888739e-16 4.06370947e-29 1.00000000e+00\n",
            "  1.07925508e-15 1.78762161e-09]\n",
            " [1.08466329e-08 3.43236849e-07 9.99999642e-01 2.81580559e-13\n",
            "  4.95148401e-11 8.42091425e-14 2.73635767e-11 3.84642040e-11\n",
            "  2.24507826e-11 2.19785301e-11]\n",
            " [1.01480369e-12 9.99991775e-01 2.78667692e-12 4.63454585e-15\n",
            "  1.39580706e-07 4.51098056e-12 1.58443744e-11 8.02692011e-06\n",
            "  2.74401942e-11 9.05500119e-11]\n",
            " [9.99983549e-01 4.38645404e-13 6.01888104e-08 3.85374976e-09\n",
            "  1.25545060e-10 3.78844955e-09 1.61723019e-05 6.74134956e-13\n",
            "  3.44123627e-08 1.14143376e-07]\n",
            " [1.07638204e-12 5.26686861e-10 6.03835883e-13 2.08916844e-15\n",
            "  9.99999404e-01 4.20246928e-11 6.29613428e-09 8.34416494e-11\n",
            "  9.85767645e-09 5.92021877e-07]\n",
            " [6.83792920e-13 9.99992967e-01 5.52775534e-12 5.08871613e-16\n",
            "  1.14197256e-07 1.63398185e-13 1.88057707e-12 6.95514109e-06\n",
            "  3.96799867e-12 5.12322684e-10]\n",
            " [3.39958794e-25 2.61924669e-07 1.08072497e-16 4.30057299e-21\n",
            "  9.99999762e-01 6.64953008e-15 1.31553797e-23 3.26232836e-08\n",
            "  6.20478942e-14 5.67720801e-11]\n",
            " [9.72258705e-14 1.11141480e-15 1.08516640e-10 7.65131403e-10\n",
            "  3.53083378e-05 1.25298709e-06 1.16723020e-11 9.35165612e-10\n",
            "  6.52207063e-07 9.99962807e-01]\n",
            " [6.09800566e-07 8.86339342e-15 5.20831271e-08 4.62060168e-10\n",
            "  2.66518113e-10 1.49664998e-01 8.50321531e-01 3.25022084e-12\n",
            "  1.27342059e-06 1.15059056e-05]]\n",
            "[7 2 1 0 4 1 4 9 5]\n"
          ],
          "name": "stdout"
        }
      ]
    },
    {
      "cell_type": "code",
      "metadata": {
        "id": "CT--y98_dr2T",
        "colab_type": "code",
        "colab": {}
      },
      "source": [
        "layer_dict = dict([(layer.name, layer) for layer in model.layers])"
      ],
      "execution_count": 0,
      "outputs": []
    },
    {
      "cell_type": "code",
      "metadata": {
        "id": "g3tMKroqzz0-",
        "colab_type": "code",
        "colab": {
          "base_uri": "https://localhost:8080/",
          "height": 269
        },
        "outputId": "4e9fe09b-fd7b-4264-f894-db7e88a9cd19"
      },
      "source": [
        "layer_dict"
      ],
      "execution_count": 28,
      "outputs": [
        {
          "output_type": "execute_result",
          "data": {
            "text/plain": [
              "{'activation_2': <keras.layers.core.Activation at 0x7f4070f5b8d0>,\n",
              " 'conv2d_17': <keras.layers.convolutional.Conv2D at 0x7f40891a1048>,\n",
              " 'conv2d_18': <keras.layers.convolutional.Conv2D at 0x7f40898b4908>,\n",
              " 'conv2d_19': <keras.layers.convolutional.Conv2D at 0x7f40891a15c0>,\n",
              " 'conv2d_20': <keras.layers.convolutional.Conv2D at 0x7f40891a10f0>,\n",
              " 'conv2d_21': <keras.layers.convolutional.Conv2D at 0x7f407c02fd30>,\n",
              " 'conv2d_22': <keras.layers.convolutional.Conv2D at 0x7f407c03f358>,\n",
              " 'conv2d_23': <keras.layers.convolutional.Conv2D at 0x7f407c05af60>,\n",
              " 'conv2d_24': <keras.layers.convolutional.Conv2D at 0x7f40d76b62b0>,\n",
              " 'dropout_7': <keras.layers.core.Dropout at 0x7f407c14cd30>,\n",
              " 'dropout_8': <keras.layers.core.Dropout at 0x7f407c08db70>,\n",
              " 'dropout_9': <keras.layers.core.Dropout at 0x7f4070fcf710>,\n",
              " 'flatten_2': <keras.layers.core.Flatten at 0x7f407c0dc860>,\n",
              " 'max_pooling2d_5': <keras.layers.pooling.MaxPooling2D at 0x7f407c14cb70>,\n",
              " 'max_pooling2d_6': <keras.layers.pooling.MaxPooling2D at 0x7f407c08d630>}"
            ]
          },
          "metadata": {
            "tags": []
          },
          "execution_count": 28
        }
      ]
    },
    {
      "cell_type": "code",
      "metadata": {
        "id": "2GY4Upv4dsUR",
        "colab_type": "code",
        "colab": {
          "base_uri": "https://localhost:8080/",
          "height": 837
        },
        "outputId": "e65de469-0b03-4942-b8af-6b3d7f544260"
      },
      "source": [
        "import numpy as np\n",
        "from matplotlib import pyplot as plt\n",
        "from keras import backend as K\n",
        "%matplotlib inline\n",
        "# util function to convert a tensor into a valid image\n",
        "def deprocess_image(x):\n",
        "    # normalize tensor: center on 0., ensure std is 0.1\n",
        "    x -= x.mean()\n",
        "    x /= (x.std() + 1e-5)\n",
        "    x *= 0.1\n",
        "\n",
        "    # clip to [0, 1]\n",
        "    x += 0.5\n",
        "    x = np.clip(x, 0, 1)\n",
        "\n",
        "    # convert to RGB array\n",
        "    x *= 255\n",
        "    #x = x.transpose((1, 2, 0))\n",
        "    x = np.clip(x, 0, 255).astype('uint8')\n",
        "    return x\n",
        "\n",
        "def vis_img_in_filter(img = np.array(X_train[2]).reshape((1, 28, 28, 1)).astype(np.float64), \n",
        "                      layer_name = 'conv2d_22'):\n",
        "    layer_output = layer_dict[layer_name].output\n",
        "    img_ascs = list()\n",
        "    for filter_index in range(layer_output.shape[3]):\n",
        "        # build a loss function that maximizes the activation\n",
        "        # of the nth filter of the layer considered\n",
        "        loss = K.mean(layer_output[:, :, :, filter_index])\n",
        "\n",
        "        # compute the gradient of the input picture wrt this loss\n",
        "        grads = K.gradients(loss, model.input)[0]\n",
        "\n",
        "        # normalization trick: we normalize the gradient\n",
        "        grads /= (K.sqrt(K.mean(K.square(grads))) + 1e-5)\n",
        "\n",
        "        # this function returns the loss and grads given the input picture\n",
        "        iterate = K.function([model.input], [loss, grads])\n",
        "\n",
        "        # step size for gradient ascent\n",
        "        step = 5.\n",
        "\n",
        "        img_asc = np.array(img)\n",
        "        # run gradient ascent for 20 steps\n",
        "        for i in range(20):\n",
        "            loss_value, grads_value = iterate([img_asc])\n",
        "            img_asc += grads_value * step\n",
        "\n",
        "        img_asc = img_asc[0]\n",
        "        img_ascs.append(deprocess_image(img_asc).reshape((28, 28)))\n",
        "        \n",
        "    if layer_output.shape[3] >= 35:\n",
        "        plot_x, plot_y = 6, 6\n",
        "    elif layer_output.shape[3] >= 23:\n",
        "        plot_x, plot_y = 4, 6\n",
        "    elif layer_output.shape[3] >= 11:\n",
        "        plot_x, plot_y = 2, 6\n",
        "    else:\n",
        "        plot_x, plot_y = 1, 2\n",
        "    fig, ax = plt.subplots(plot_x, plot_y, figsize = (12, 12))\n",
        "    ax[0, 0].imshow(img.reshape((28, 28)), cmap = 'gray')\n",
        "    ax[0, 0].set_title('Input image')\n",
        "    fig.suptitle('Input image and %s filters' % (layer_name,))\n",
        "    fig.tight_layout(pad = 0.3, rect = [0, 0, 0.9, 0.9])\n",
        "    for (x, y) in [(i, j) for i in range(plot_x) for j in range(plot_y)]:\n",
        "        if x == 0 and y == 0:\n",
        "            continue\n",
        "        ax[x, y].imshow(img_ascs[x * plot_y + y - 1], cmap = 'gray')\n",
        "        ax[x, y].set_title('filter %d' % (x * plot_y + y - 1))\n",
        "\n",
        "vis_img_in_filter()"
      ],
      "execution_count": 32,
      "outputs": [
        {
          "output_type": "display_data",
          "data": {
            "image/png": "[encoded data removed]",
            "text/plain": [
              "<Figure size 864x864 with 24 Axes>"
            ]
          },
          "metadata": {
            "tags": []
          }
        }
      ]
    },
    {
      "cell_type": "code",
      "metadata": {
        "id": "i45aQui51CTs",
        "colab_type": "code",
        "colab": {}
      },
      "source": [
        ""
      ],
      "execution_count": 0,
      "outputs": []
    },
    {
      "cell_type": "code",
      "metadata": {
        "id": "9tvptcn8dxvp",
        "colab_type": "code",
        "colab": {}
      },
      "source": [
        ""
      ],
      "execution_count": 0,
      "outputs": []
    }
  ]
}